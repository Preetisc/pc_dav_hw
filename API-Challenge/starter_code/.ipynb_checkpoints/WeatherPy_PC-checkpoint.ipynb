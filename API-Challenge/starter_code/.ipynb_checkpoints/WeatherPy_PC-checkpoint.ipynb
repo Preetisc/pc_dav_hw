{
 "cells": [
  {
   "cell_type": "markdown",
   "metadata": {},
   "source": [
    "# WeatherPy\n",
    "----\n",
    "\n",
    "#### Note\n",
    "* Instructions have been included for each segment. You do not have to follow them exactly, but they are included to help you think through the steps."
   ]
  },
  {
   "cell_type": "code",
   "execution_count": 1,
   "metadata": {
    "scrolled": true
   },
   "outputs": [],
   "source": [
    "# Dependencies and Setup\n",
    "import matplotlib.pyplot as plt\n",
    "import pandas as pd\n",
    "import numpy as np\n",
    "import requests\n",
    "import time\n",
    "from scipy.stats import linregress\n",
    "import datetime as datetime\n",
    "\n",
    "# Import API key\n",
    "from api_keys import weather_api_key\n",
    "\n",
    "# Incorporated citipy to determine city based on latitude and longitude\n",
    "from citipy import citipy\n",
    "\n",
    "# Output File (CSV)\n",
    "output_data_file = \"../output_data/cities_PC.csv\"\n",
    "\n",
    "# Range of latitudes and longitudes\n",
    "lat_range = (-90, 90)\n",
    "lng_range = (-180, 180)"
   ]
  },
  {
   "cell_type": "markdown",
   "metadata": {},
   "source": [
    "## Generate Cities List"
   ]
  },
  {
   "cell_type": "code",
   "execution_count": 2,
   "metadata": {},
   "outputs": [
    {
     "data": {
      "text/plain": [
       "600"
      ]
     },
     "execution_count": 2,
     "metadata": {},
     "output_type": "execute_result"
    }
   ],
   "source": [
    "# List for holding lat_lngs and cities\n",
    "lat_lngs = []\n",
    "cities = []\n",
    "\n",
    "# Create a set of random lat and lng combinations\n",
    "lats = np.random.uniform(low=-90.000, high=90.000, size=1500)\n",
    "lngs = np.random.uniform(low=-180.000, high=180.000, size=1500)\n",
    "lat_lngs = zip(lats, lngs)\n",
    "\n",
    "# Identify nearest city for each lat, lng combination\n",
    "for lat_lng in lat_lngs:\n",
    "    city = citipy.nearest_city(lat_lng[0], lat_lng[1]).city_name\n",
    "    \n",
    "    # If the city is unique, then add it to a our cities list\n",
    "    if city not in cities:\n",
    "        cities.append(city)\n",
    "\n",
    "# Print the city count to confirm sufficient count\n",
    "len(cities)"
   ]
  },
  {
   "cell_type": "code",
   "execution_count": 3,
   "metadata": {},
   "outputs": [],
   "source": [
    "#print(cities)\n",
    "#print(weather_api_key)"
   ]
  },
  {
   "cell_type": "code",
   "execution_count": 4,
   "metadata": {},
   "outputs": [
    {
     "name": "stdout",
     "output_type": "stream",
     "text": [
      "Processing Record  hobart  \n",
      "Processing Record  vaini  \n",
      "Processing Record  coquimbo  \n",
      "Processing Record  chuy  \n",
      "Processing Record  merritt  \n",
      "Processing Record  cockburn town  \n",
      "Processing Record  sao joao do piaui  \n",
      "City not found\n",
      "Processing Record  cukai  \n",
      "Processing Record  qaanaaq  \n",
      "Processing Record  busselton  \n",
      "Processing Record  ushuaia  \n",
      "Processing Record  ostrovnoy  \n",
      "Processing Record  lebu  \n",
      "Processing Record  bluff  \n",
      "Processing Record  wajir  \n",
      "Processing Record  meulaboh  \n",
      "Processing Record  barrow  \n",
      "Processing Record  fairbanks  \n",
      "Processing Record  east london  \n",
      "Processing Record  rikitea  \n",
      "Processing Record  kidal  \n",
      "Processing Record  ippy  \n",
      "Processing Record  bathsheba  \n",
      "Processing Record  kapaa  \n",
      "Processing Record  pevek  \n",
      "Processing Record  arraial do cabo  \n",
      "Processing Record  souillac  \n",
      "Processing Record  hambantota  \n",
      "Processing Record  whitehorse  \n",
      "Processing Record  butaritari  \n",
      "Processing Record  lompoc  \n",
      "Processing Record  ambulu  \n",
      "City not found\n",
      "Processing Record  hermanus  \n",
      "Processing Record  tiksi  \n",
      "City not found\n",
      "Processing Record  port alfred  \n",
      "Processing Record  husavik  \n",
      "Processing Record  mataura  \n",
      "Processing Record  auki  \n",
      "Processing Record  cape town  \n",
      "City not found\n",
      "Processing Record  thompson  \n",
      "Processing Record  araguaina  \n",
      "Processing Record  mayo  \n",
      "Processing Record  makakilo city  \n",
      "Processing Record  sandakan  \n",
      "Processing Record  verkhnevilyuysk  \n",
      "Processing Record  puerto ayora  \n",
      "Processing Record  rio gallegos  \n",
      "City not found\n",
      "Processing Record  fortuna  \n",
      "Processing Record  north bend  \n",
      "Processing Record  gao  \n",
      "Processing Record  iqaluit  \n",
      "Processing Record  warrnambool  \n",
      "Processing Record  okhotsk  \n",
      "Processing Record  najran  \n",
      "Processing Record  atuona  \n",
      "Processing Record  narsaq  \n",
      "City not found\n",
      "Processing Record  faanui  \n",
      "Processing Record  kutum  \n",
      "Processing Record  makaha  \n",
      "City not found\n",
      "Processing Record  kloulklubed  \n",
      "Processing Record  baruun-urt  \n",
      "Processing Record  tasiilaq  \n",
      "Processing Record  chokurdakh  \n",
      "Processing Record  albany  \n",
      "Processing Record  lahaina  \n",
      "Processing Record  georgetown  \n",
      "City not found\n",
      "Processing Record  punta arenas  \n",
      "Processing Record  marsabit  \n",
      "City not found\n",
      "Processing Record  pacific grove  \n",
      "Processing Record  tuktoyaktuk  \n",
      "City not found\n",
      "Processing Record  bambous virieux  \n",
      "Processing Record  byron bay  \n",
      "Processing Record  severo-kurilsk  \n",
      "Processing Record  gamba  \n",
      "Processing Record  roma  \n",
      "Processing Record  bredasdorp  \n",
      "Processing Record  kyshtovka  \n",
      "Processing Record  norman wells  \n",
      "City not found\n",
      "Processing Record  new norfolk  \n",
      "Processing Record  havre-saint-pierre  \n",
      "Processing Record  avera  \n",
      "Processing Record  klyuchi  \n",
      "Processing Record  elko  \n",
      "Processing Record  mercedes  \n",
      "Processing Record  thohoyandou  \n",
      "Processing Record  abu samrah  \n",
      "Processing Record  cidreira  \n",
      "Processing Record  nemuro  \n",
      "Processing Record  ribeira grande  \n",
      "Processing Record  jamestown  \n",
      "Processing Record  ilulissat  \n",
      "Processing Record  maldonado  \n",
      "Processing Record  niort  \n",
      "Processing Record  ballina  \n",
      "Processing Record  duekoue  \n",
      "City not found\n",
      "Processing Record  port hedland  \n",
      "Processing Record  pisco  \n",
      "City not found\n",
      "Processing Record  avarua  \n",
      "City not found\n",
      "Processing Record  ayagoz  \n",
      "Processing Record  aklavik  \n",
      "Processing Record  abnub  \n",
      "Processing Record  sept-iles  \n",
      "Processing Record  novyy urengoy  \n",
      "Processing Record  klaksvik  \n",
      "Processing Record  dikson  \n",
      "Processing Record  lata  \n",
      "Processing Record  willowmore  \n",
      "Processing Record  christchurch  \n",
      "Processing Record  nikolskoye  \n",
      "Processing Record  castro  \n",
      "Processing Record  san cristobal  \n",
      "Processing Record  islahiye  \n",
      "Processing Record  sur  \n",
      "Processing Record  tawang  \n",
      "Processing Record  carutapera  \n",
      "Processing Record  saint anthony  \n",
      "City not found\n",
      "City not found\n",
      "Processing Record  marathon  \n",
      "Processing Record  teya  \n",
      "Processing Record  margate  \n",
      "Processing Record  clyde river  \n",
      "Processing Record  touros  \n",
      "Processing Record  mishan  \n",
      "Processing Record  ancud  \n",
      "Processing Record  victoria  \n",
      "Processing Record  san quintin  \n",
      "Processing Record  akdepe  \n",
      "Processing Record  camocim  \n",
      "Processing Record  beira  \n",
      "Processing Record  srednekolymsk  \n",
      "Processing Record  siavonga  \n",
      "Processing Record  alofi  \n",
      "Processing Record  bethel  \n",
      "Processing Record  cherskiy  \n",
      "Processing Record  kiama  \n",
      "Processing Record  mar del plata  \n",
      "Processing Record  torbay  \n",
      "Processing Record  constitucion  \n",
      "City not found\n",
      "Processing Record  yellowknife  \n",
      "Processing Record  barentu  \n",
      "Processing Record  show low  \n",
      "Processing Record  mount gambier  \n",
      "City not found\n",
      "City not found\n",
      "City not found\n",
      "Processing Record  puro  \n",
      "Processing Record  sapa  \n",
      "Processing Record  kodiak  \n",
      "Processing Record  almaznyy  \n",
      "Processing Record  jinxi  \n",
      "Processing Record  samaipata  \n",
      "Processing Record  sri aman  \n",
      "Processing Record  port elizabeth  \n",
      "Processing Record  buenaventura  \n",
      "Processing Record  sabang  \n",
      "Processing Record  angoche  \n",
      "Processing Record  hilo  \n",
      "Processing Record  benguela  \n",
      "Processing Record  noumea  \n",
      "Processing Record  oksfjord  \n",
      "City not found\n",
      "Processing Record  la ronge  \n",
      "Processing Record  lagos  \n",
      "City not found\n",
      "Processing Record  westport  \n",
      "Processing Record  moba  \n",
      "Processing Record  huarmey  \n",
      "Processing Record  sobolevo  \n",
      "Processing Record  sinop  \n",
      "Processing Record  high level  \n",
      "Processing Record  mutoko  \n",
      "Processing Record  bahia blanca  \n",
      "Processing Record  san patricio  \n",
      "Processing Record  jalu  \n",
      "Processing Record  killybegs  \n",
      "City not found\n",
      "Processing Record  mehamn  \n",
      "Processing Record  qaqortoq  \n",
      "Processing Record  mount isa  \n",
      "Processing Record  ketchikan  \n",
      "Processing Record  cairns  \n",
      "Processing Record  itarema  \n",
      "Processing Record  chino valley  \n",
      "Processing Record  sinnamary  \n",
      "City not found\n",
      "Processing Record  manhattan  \n",
      "Processing Record  chapada dos guimaraes  \n",
      "City not found\n",
      "Processing Record  aras  \n",
      "Processing Record  sitka  \n",
      "Processing Record  lafayette  \n",
      "City not found\n",
      "Processing Record  polyarnyy  \n",
      "Processing Record  lima  \n",
      "Processing Record  upernavik  \n",
      "Processing Record  yulara  \n",
      "Processing Record  darhan  \n",
      "Processing Record  bambanglipuro  \n",
      "City not found\n",
      "Processing Record  herat  \n",
      "Processing Record  tiradentes  \n",
      "Processing Record  sao filipe  \n",
      "Processing Record  isangel  \n",
      "Processing Record  san juan  \n",
      "Processing Record  sosnovo-ozerskoye  \n",
      "Processing Record  hami  \n",
      "Processing Record  shihezi  \n",
      "Processing Record  ust-ilimsk  \n",
      "Processing Record  high rock  \n",
      "Processing Record  zheleznodorozhnyy  \n",
      "Processing Record  geraldton  \n",
      "Processing Record  itoman  \n",
      "Processing Record  salalah  \n",
      "City not found\n",
      "Processing Record  antofagasta  \n",
      "Processing Record  saint-pierre  \n",
      "Processing Record  morondava  \n",
      "Processing Record  alta floresta  \n",
      "Processing Record  ruteng  \n",
      "Processing Record  saskylakh  \n",
      "Processing Record  todos santos  \n",
      "Processing Record  ugoofaaru  \n",
      "Processing Record  doha  \n",
      "Processing Record  kozhevnikovo  \n",
      "Processing Record  zhigansk  \n",
      "Processing Record  rawson  \n",
      "Processing Record  saint-doulchard  \n",
      "Processing Record  taltal  \n",
      "Processing Record  sioux lookout  \n",
      "Processing Record  luwuk  \n",
      "Processing Record  phek  \n",
      "Processing Record  griffith  \n",
      "Processing Record  saint-philippe  \n",
      "Processing Record  dosso  \n",
      "Processing Record  laguna  \n",
      "Processing Record  kasiri  \n",
      "Processing Record  guane  \n",
      "Processing Record  kpandu  \n",
      "City not found\n",
      "Processing Record  donghai  \n",
      "Processing Record  anloga  \n",
      "Processing Record  bolobo  \n",
      "Processing Record  harper  \n",
      "Processing Record  mandurah  \n",
      "Processing Record  nanortalik  \n",
      "Processing Record  hovd  \n",
      "Processing Record  black river  \n",
      "Processing Record  khatanga  \n",
      "Processing Record  vestmannaeyjar  \n",
      "Processing Record  nicoya  \n",
      "Processing Record  kahului  \n",
      "Processing Record  carnarvon  \n",
      "Processing Record  kieta  \n",
      "Processing Record  izumo  \n",
      "Processing Record  cordoba  \n",
      "Processing Record  merritt island  \n",
      "Processing Record  tres passos  \n",
      "Processing Record  nuristan  \n",
      "Processing Record  puerto quijarro  \n",
      "Processing Record  vila velha  \n",
      "Processing Record  newport  \n",
      "Processing Record  faya  \n",
      "Processing Record  hailar  \n",
      "Processing Record  nicolas bravo  \n",
      "Processing Record  esperance  \n",
      "Processing Record  kapit  \n",
      "Processing Record  bereda  \n",
      "Processing Record  bocaiuva  \n",
      "Processing Record  aksu  \n",
      "Processing Record  katsuura  \n",
      "Processing Record  pokhara  \n",
      "Processing Record  collie  \n"
     ]
    },
    {
     "name": "stdout",
     "output_type": "stream",
     "text": [
      "Processing Record  tautira  \n",
      "Processing Record  damghan  \n",
      "Processing Record  maragogi  \n",
      "Processing Record  farafangana  \n",
      "City not found\n",
      "Processing Record  pesnica pri mariboru  \n",
      "Processing Record  grindavik  \n",
      "Processing Record  dwarka  \n",
      "Processing Record  sao joao da barra  \n",
      "Processing Record  churapcha  \n",
      "Processing Record  isiro  \n",
      "City not found\n",
      "Processing Record  karratha  \n",
      "Processing Record  kasongo-lunda  \n",
      "Processing Record  rincon  \n",
      "Processing Record  port lincoln  \n",
      "Processing Record  cao bang  \n",
      "Processing Record  khandyga  \n",
      "Processing Record  mana  \n",
      "City not found\n",
      "Processing Record  guerrero negro  \n",
      "Processing Record  amahai  \n",
      "Processing Record  hithadhoo  \n",
      "Processing Record  phan thiet  \n",
      "Processing Record  namibe  \n",
      "Processing Record  luderitz  \n",
      "Processing Record  berlevag  \n",
      "City not found\n",
      "Processing Record  matara  \n",
      "Processing Record  mecca  \n",
      "Processing Record  belaya gora  \n",
      "Processing Record  teguise  \n",
      "Processing Record  nouakchott  \n",
      "Processing Record  kenai  \n",
      "City not found\n",
      "Processing Record  ponta do sol  \n",
      "City not found\n",
      "Processing Record  portel  \n",
      "Processing Record  mount pleasant  \n",
      "Processing Record  bure  \n",
      "Processing Record  rocha  \n",
      "City not found\n",
      "City not found\n",
      "Processing Record  magaria  \n",
      "Processing Record  luanda  \n",
      "Processing Record  carmen  \n",
      "Processing Record  saint-augustin  \n",
      "Processing Record  ankara  \n",
      "Processing Record  ariquemes  \n",
      "Processing Record  broken hill  \n",
      "Processing Record  kaitangata  \n",
      "Processing Record  vanavara  \n",
      "City not found\n",
      "Processing Record  ovalle  \n",
      "Processing Record  airai  \n",
      "Processing Record  creston  \n",
      "Processing Record  cabo san lucas  \n",
      "Processing Record  santa maria do suacui  \n",
      "Processing Record  longyearbyen  \n",
      "City not found\n",
      "Processing Record  farah  \n",
      "Processing Record  westerland  \n",
      "Processing Record  bubaque  \n",
      "Processing Record  mogadishu  \n",
      "Processing Record  taoudenni  \n",
      "Processing Record  maua  \n",
      "Processing Record  lufilufi  \n",
      "Processing Record  muyezerskiy  \n",
      "Processing Record  acapulco  \n",
      "Processing Record  mitu  \n",
      "Processing Record  erenhot  \n",
      "Processing Record  kalmunai  \n",
      "City not found\n",
      "City not found\n",
      "Processing Record  tiarei  \n",
      "Processing Record  nelson bay  \n",
      "Processing Record  dingle  \n",
      "Processing Record  kaputa  \n",
      "Processing Record  iracoubo  \n",
      "Processing Record  sile  \n",
      "Processing Record  aykino  \n",
      "Processing Record  medvezhyegorsk  \n",
      "Processing Record  corinto  \n",
      "Processing Record  egvekinot  \n",
      "Processing Record  itacare  \n",
      "Processing Record  mporokoso  \n",
      "Processing Record  coihaique  \n",
      "Processing Record  walvis bay  \n",
      "Processing Record  nioro  \n",
      "Processing Record  thinadhoo  \n",
      "Processing Record  seoul  \n",
      "Processing Record  cayenne  \n",
      "Processing Record  waingapu  \n",
      "Processing Record  mahebourg  \n",
      "Processing Record  marovoay  \n",
      "Processing Record  boda  \n",
      "Processing Record  kushima  \n",
      "Processing Record  gonbad-e qabus  \n",
      "Processing Record  barra do bugres  \n",
      "Processing Record  dicabisagan  \n",
      "Processing Record  lavrentiya  \n",
      "Processing Record  provideniya  \n",
      "Processing Record  shubarshi  \n",
      "Processing Record  mayumba  \n",
      "Processing Record  necochea  \n",
      "Processing Record  upata  \n",
      "Processing Record  bichura  \n",
      "Processing Record  anupgarh  \n",
      "City not found\n",
      "Processing Record  tuburan  \n",
      "Processing Record  hamilton  \n",
      "City not found\n",
      "Processing Record  murgab  \n",
      "Processing Record  saint-paul  \n",
      "Processing Record  verkhnyaya inta  \n",
      "Processing Record  lorengau  \n",
      "Processing Record  kampot  \n",
      "Processing Record  winona  \n",
      "Processing Record  myra  \n",
      "Processing Record  nome  \n",
      "City not found\n",
      "Processing Record  doka  \n",
      "Processing Record  jacqueville  \n",
      "Processing Record  cabinda  \n",
      "Processing Record  tezu  \n",
      "City not found\n",
      "Processing Record  safford  \n",
      "Processing Record  west point  \n",
      "Processing Record  acajutla  \n",
      "Processing Record  jinchang  \n",
      "City not found\n",
      "Processing Record  moron  \n",
      "City not found\n",
      "Processing Record  gurupi  \n",
      "Processing Record  singaraja  \n",
      "Processing Record  zyryanka  \n",
      "Processing Record  itacurubi del rosario  \n",
      "Processing Record  eyl  \n",
      "Processing Record  taganak  \n",
      "Processing Record  chistogorskiy  \n",
      "Processing Record  birin  \n",
      "Processing Record  nainpur  \n",
      "Processing Record  beloha  \n",
      "Processing Record  progreso  \n",
      "Processing Record  chagoda  \n",
      "Processing Record  sompeta  \n",
      "Processing Record  vanimo  \n",
      "City not found\n",
      "Processing Record  nguruka  \n",
      "Processing Record  stadtallendorf  \n",
      "Processing Record  khorramshahr  \n",
      "Processing Record  sorland  \n",
      "Processing Record  kissidougou  \n",
      "Processing Record  haines junction  \n",
      "Processing Record  kavieng  \n",
      "Processing Record  saldanha  \n",
      "Processing Record  lazaro cardenas  \n",
      "Processing Record  paramonga  \n",
      "Processing Record  sangar  \n",
      "Processing Record  celestun  \n",
      "Processing Record  fukue  \n",
      "Processing Record  leningradskiy  \n",
      "Processing Record  rorvik  \n",
      "City not found\n",
      "Processing Record  coahuayana  \n",
      "Processing Record  chihuahua  \n",
      "Processing Record  chapais  \n",
      "Processing Record  susehri  \n",
      "Processing Record  ahipara  \n",
      "Processing Record  eydhafushi  \n",
      "City not found\n",
      "Processing Record  shingu  \n",
      "Processing Record  nhulunbuy  \n",
      "City not found\n",
      "Processing Record  topchikha  \n",
      "Processing Record  yamada  \n",
      "Processing Record  jati  \n",
      "Processing Record  caravelas  \n",
      "Processing Record  goderich  \n",
      "Processing Record  esteli  \n",
      "Processing Record  blythe  \n",
      "City not found\n",
      "Processing Record  nizhniy odes  \n",
      "Processing Record  road town  \n",
      "Processing Record  dudinka  \n",
      "Processing Record  utete  \n",
      "Processing Record  lagoa  \n",
      "Processing Record  madaoua  \n",
      "Processing Record  cravo norte  \n",
      "Processing Record  siniscola  \n",
      "Processing Record  sanandaj  \n",
      "Processing Record  normal  \n",
      "Processing Record  alamos  \n",
      "Processing Record  sergeyevka  \n",
      "Processing Record  uniao dos palmares  \n",
      "Processing Record  lasa  \n",
      "Processing Record  batemans bay  \n",
      "Processing Record  pangnirtung  \n",
      "Processing Record  kawalu  \n",
      "Processing Record  hasaki  \n",
      "Processing Record  sabana de torres  \n",
      "Processing Record  solnechnyy  \n",
      "City not found\n",
      "City not found\n",
      "Processing Record  half moon bay  \n",
      "Processing Record  majene  \n",
      "Processing Record  hualmay  \n",
      "Processing Record  cedar city  \n",
      "Processing Record  zhenlai  \n",
      "Processing Record  bonthe  \n",
      "Processing Record  kaeo  \n",
      "Processing Record  newcastleton  \n",
      "Processing Record  yenagoa  \n",
      "Processing Record  cangucu  \n",
      "Processing Record  usinsk  \n",
      "Processing Record  shimoda  \n",
      "Processing Record  broome  \n",
      "Processing Record  sangre grande  \n",
      "Processing Record  zabol  \n",
      "Processing Record  ossora  \n",
      "Processing Record  abdanan  \n",
      "Processing Record  brae  \n",
      "Processing Record  ylivieska  \n",
      "Processing Record  chincha alta  \n",
      "Processing Record  ixtapa  \n",
      "Processing Record  puerto narino  \n",
      "Processing Record  valparaiso  \n",
      "Processing Record  arman  \n",
      "Processing Record  gaoual  \n",
      "Processing Record  saint george  \n",
      "Processing Record  mnogovershinnyy  \n",
      "Processing Record  preeceville  \n",
      "Processing Record  ust-nera  \n",
      "Processing Record  kruisfontein  \n",
      "Processing Record  strathpeffer  \n",
      "Processing Record  snezhnogorsk  \n",
      "City not found\n",
      "Processing Record  virginia beach  \n",
      "Processing Record  soke  \n",
      "Processing Record  pohorelice  \n",
      "Processing Record  namatanai  \n",
      "Processing Record  nanakuli  \n",
      "Processing Record  tongliao  \n",
      "Processing Record  qasigiannguit  \n",
      "City not found\n",
      "Processing Record  mitsamiouli  \n",
      "Processing Record  manono  \n",
      "Processing Record  ankazoabo  \n",
      "Processing Record  fare  \n",
      "Processing Record  copiapo  \n",
      "Processing Record  chingirlau  \n",
      "Processing Record  konigs wusterhausen  \n",
      "Processing Record  pohrebyshche  \n",
      "Processing Record  lindas  \n",
      "Processing Record  zhanaozen  \n",
      "Processing Record  casablanca  \n",
      "Processing Record  port macquarie  \n",
      "Processing Record  vidalia  \n",
      "Processing Record  manakara  \n",
      "Processing Record  gambela  \n",
      "Processing Record  visby  \n",
      "Processing Record  daru  \n",
      "Processing Record  bom jardim  \n",
      "Processing Record  susanville  \n",
      "Processing Record  port hardy  \n",
      "Processing Record  beringovskiy  \n",
      "Processing Record  esso  \n",
      "Processing Record  ihosy  \n",
      "City not found\n",
      "Processing Record  tilichiki  \n",
      "Processing Record  ardahan  \n",
      "Processing Record  rio grande  \n",
      "Processing Record  leon  \n",
      "Processing Record  pingdingshan  \n",
      "Processing Record  marawi  \n",
      "Processing Record  codrington  \n",
      "Processing Record  pasighat  \n",
      "City not found\n",
      "Processing Record  chodavaram  \n",
      "Processing Record  baykit  \n",
      "Processing Record  kirakira  \n",
      "Processing Record  mehran  \n",
      "City not found\n",
      "Processing Record  kulhudhuffushi  \n",
      "Processing Record  gribanovskiy  \n",
      "Processing Record  punta alta  \n",
      "Processing Record  paamiut  \n",
      "Processing Record  maxixe  \n",
      "Processing Record  abu zabad  \n"
     ]
    },
    {
     "name": "stdout",
     "output_type": "stream",
     "text": [
      "Processing Record  launceston  \n",
      "Processing Record  gladstone  \n",
      "City not found\n",
      "Processing Record  marzuq  \n",
      "Processing Record  aripuana  \n",
      "Processing Record  zagare  \n",
      "City not found\n",
      "Processing Record  zemio  \n",
      "Processing Record  pangody  \n",
      "Processing Record  limerick  \n",
      "Processing Record  camopi  \n",
      "Processing Record  amapa  \n",
      "City not found\n",
      "Processing Record  sawtell  \n",
      "Processing Record  tura  \n",
      "Processing Record  kupang  \n",
      "Processing Record  ponazyrevo  \n",
      "Processing Record  samarai  \n",
      "Processing Record  takoradi  \n",
      "Processing Record  komsomolskiy  \n",
      "Processing Record  kasrawad  \n",
      "Processing Record  beaverlodge  \n",
      "Processing Record  shenjiamen  \n"
     ]
    }
   ],
   "source": [
    "### Perform API Calls\n",
    "# Perform a weather check on each city using a series of successive API calls.\n",
    "#http://api.openweathermap.org/data/2.5/weather?q=London,uk&APPID=25cac9dce6a31b42dfca976765c80739\n",
    "city=[]\n",
    "Cloudiness=[]\n",
    "Country=[]\n",
    "Date=[]\n",
    "Humidity=[]\n",
    "Lat=[]\n",
    "Lng=[]\n",
    "Max_Temp=[]\n",
    "Wind_Speed=[]\n",
    "\n",
    "units = \"imperial\"\n",
    "base_url=\"http://api.openweathermap.org/data/2.5/weather?\"\n",
    "\n",
    "# Build partial query URL\n",
    "\n",
    "\n",
    "for c in cities: \n",
    "    query_url = f\"{base_url}appid={weather_api_key}&units={units}&q=\"\n",
    "    response =requests.get(query_url+c).json()\n",
    "    #print(response)\n",
    "    try:\n",
    "        city.append(response[\"name\"])\n",
    "        Cloudiness.append(response[\"clouds\"][\"all\"])\n",
    "        Country.append(response[\"sys\"][\"country\"])\n",
    "        Date.append(response[\"dt\"])\n",
    "        Humidity.append(response[\"main\"][\"humidity\"])\n",
    "        Lat.append(response[\"coord\"][\"lat\"])\n",
    "        Lng.append(response[\"coord\"][\"lon\"])\n",
    "        Max_Temp.append(response[\"main\"][\"temp_max\"])\n",
    "        Wind_Speed.append(response[\"wind\"][\"speed\"])\n",
    "        #* Include a print log of each city as it'sbeing processed (with the city number and city name).\n",
    "        print(f'Processing Record  {c}  ')\n",
    "        \n",
    "    except:\n",
    "        print(\"City not found\")\n",
    "        "
   ]
  },
  {
   "cell_type": "code",
   "execution_count": 5,
   "metadata": {},
   "outputs": [
    {
     "name": "stdout",
     "output_type": "stream",
     "text": [
      "538\n",
      "1578277144\n"
     ]
    }
   ],
   "source": [
    "print(len(city))\n",
    "print(Date[0])"
   ]
  },
  {
   "cell_type": "markdown",
   "metadata": {},
   "source": [
    "### Convert Raw Data to DataFrame\n",
    "* Export the city data into a .csv.\n",
    "* Display the DataFrame"
   ]
  },
  {
   "cell_type": "code",
   "execution_count": 6,
   "metadata": {},
   "outputs": [
    {
     "data": {
      "text/html": [
       "<div>\n",
       "<style scoped>\n",
       "    .dataframe tbody tr th:only-of-type {\n",
       "        vertical-align: middle;\n",
       "    }\n",
       "\n",
       "    .dataframe tbody tr th {\n",
       "        vertical-align: top;\n",
       "    }\n",
       "\n",
       "    .dataframe thead th {\n",
       "        text-align: right;\n",
       "    }\n",
       "</style>\n",
       "<table border=\"1\" class=\"dataframe\">\n",
       "  <thead>\n",
       "    <tr style=\"text-align: right;\">\n",
       "      <th></th>\n",
       "      <th>cities</th>\n",
       "      <th>Cloudiness</th>\n",
       "      <th>Country</th>\n",
       "      <th>Date</th>\n",
       "      <th>Humidity</th>\n",
       "      <th>Lat</th>\n",
       "      <th>Lng</th>\n",
       "      <th>Max_Temp</th>\n",
       "      <th>Wind_Speed</th>\n",
       "    </tr>\n",
       "  </thead>\n",
       "  <tbody>\n",
       "    <tr>\n",
       "      <th>0</th>\n",
       "      <td>Hobart</td>\n",
       "      <td>20</td>\n",
       "      <td>AU</td>\n",
       "      <td>1578277144</td>\n",
       "      <td>55</td>\n",
       "      <td>-42.88</td>\n",
       "      <td>147.33</td>\n",
       "      <td>77.00</td>\n",
       "      <td>16.11</td>\n",
       "    </tr>\n",
       "    <tr>\n",
       "      <th>1</th>\n",
       "      <td>Vaini</td>\n",
       "      <td>75</td>\n",
       "      <td>IN</td>\n",
       "      <td>1578276945</td>\n",
       "      <td>88</td>\n",
       "      <td>15.34</td>\n",
       "      <td>74.49</td>\n",
       "      <td>66.20</td>\n",
       "      <td>4.70</td>\n",
       "    </tr>\n",
       "    <tr>\n",
       "      <th>2</th>\n",
       "      <td>Coquimbo</td>\n",
       "      <td>0</td>\n",
       "      <td>CL</td>\n",
       "      <td>1578277144</td>\n",
       "      <td>72</td>\n",
       "      <td>-29.95</td>\n",
       "      <td>-71.34</td>\n",
       "      <td>62.60</td>\n",
       "      <td>2.24</td>\n",
       "    </tr>\n",
       "    <tr>\n",
       "      <th>3</th>\n",
       "      <td>Chuy</td>\n",
       "      <td>0</td>\n",
       "      <td>UY</td>\n",
       "      <td>1578277143</td>\n",
       "      <td>85</td>\n",
       "      <td>-33.69</td>\n",
       "      <td>-53.46</td>\n",
       "      <td>69.55</td>\n",
       "      <td>11.83</td>\n",
       "    </tr>\n",
       "    <tr>\n",
       "      <th>4</th>\n",
       "      <td>Merritt</td>\n",
       "      <td>75</td>\n",
       "      <td>CA</td>\n",
       "      <td>1578277144</td>\n",
       "      <td>88</td>\n",
       "      <td>50.11</td>\n",
       "      <td>-120.79</td>\n",
       "      <td>39.20</td>\n",
       "      <td>14.99</td>\n",
       "    </tr>\n",
       "  </tbody>\n",
       "</table>\n",
       "</div>"
      ],
      "text/plain": [
       "     cities  Cloudiness Country        Date  Humidity    Lat     Lng  \\\n",
       "0    Hobart          20      AU  1578277144        55 -42.88  147.33   \n",
       "1     Vaini          75      IN  1578276945        88  15.34   74.49   \n",
       "2  Coquimbo           0      CL  1578277144        72 -29.95  -71.34   \n",
       "3      Chuy           0      UY  1578277143        85 -33.69  -53.46   \n",
       "4   Merritt          75      CA  1578277144        88  50.11 -120.79   \n",
       "\n",
       "   Max_Temp  Wind_Speed  \n",
       "0     77.00       16.11  \n",
       "1     66.20        4.70  \n",
       "2     62.60        2.24  \n",
       "3     69.55       11.83  \n",
       "4     39.20       14.99  "
      ]
     },
     "execution_count": 6,
     "metadata": {},
     "output_type": "execute_result"
    }
   ],
   "source": [
    "\n",
    "city_df=pd.DataFrame({\n",
    "\"cities\":city,\n",
    "\"Cloudiness\":Cloudiness,\n",
    "\"Country\":Country,\n",
    "\"Date\":Date,\n",
    "\"Humidity\":Humidity,\n",
    "\"Lat\":Lat,\n",
    "\"Lng\":Lng,\n",
    "\"Max_Temp\":Max_Temp,\n",
    "\"Wind_Speed\":Wind_Speed    \n",
    "})\n",
    "\n",
    "city_df.head()"
   ]
  },
  {
   "cell_type": "code",
   "execution_count": 7,
   "metadata": {},
   "outputs": [],
   "source": [
    "#Write the data to a csv file\n",
    "#output_data_file = \"../output_data/cities_PC.csv\"\n",
    "city_df.to_csv(output_data_file)"
   ]
  },
  {
   "cell_type": "markdown",
   "metadata": {},
   "source": [
    "### Plotting the Data\n",
    "* Use proper labeling of the plots using plot titles (including date of analysis) and axes labels.\n",
    "* Save the plotted figures as .pngs."
   ]
  },
  {
   "cell_type": "markdown",
   "metadata": {},
   "source": [
    "#### Latitude vs. Temperature Plot"
   ]
  },
  {
   "cell_type": "code",
   "execution_count": 8,
   "metadata": {},
   "outputs": [
    {
     "name": "stdout",
     "output_type": "stream",
     "text": [
      "1578277144\n"
     ]
    }
   ],
   "source": [
    "print(Date[0])"
   ]
  },
  {
   "cell_type": "code",
   "execution_count": 26,
   "metadata": {
    "scrolled": true
   },
   "outputs": [
    {
     "name": "stdout",
     "output_type": "stream",
     "text": [
      "Here we are ploting city temprature and latitudes.Analysing the plot tells us the temprature near the equater are higher as compared to the city higher latitudes. \n"
     ]
    },
    {
     "data": {
      "image/png": "[encoded data removed]",
      "text/plain": [
       "<Figure size 432x288 with 1 Axes>"
      ]
     },
     "metadata": {
      "needs_background": "light"
     },
     "output_type": "display_data"
    }
   ],
   "source": [
    "#convert (Unix time, UTC), to date format\n",
    "\n",
    "dt=int(Date[0])\n",
    "dt=datetime.datetime.utcfromtimestamp(Date[0]).strftime('%Y/%m/%d')\n",
    "\n",
    "\n",
    "x_values = city_df['Lat']\n",
    "y_values = city_df['Max_Temp']\n",
    "plt.ylim(0,100)\n",
    "plt.xlim(-60,80)\n",
    "plt.scatter(x_values,y_values)\n",
    "plt.xlabel('Latitude')\n",
    "plt.ylabel('Max Temperature (F)')\n",
    "plt.title(f'City Latitude vs Max Temprature ({dt})')\n",
    "plt.grid()\n",
    "#plt.show()\n",
    "plt.savefig(\"../output_data/LatitudeVsMaxTemprature.png\")\n",
    "print('Here we are ploting city temprature and latitudes.Analysing the plot tells us the temprature near the equater are higher as compared to the city higher latitudes. ')"
   ]
  },
  {
   "cell_type": "markdown",
   "metadata": {},
   "source": [
    "#### Latitude vs. Humidity Plot"
   ]
  },
  {
   "cell_type": "code",
   "execution_count": 25,
   "metadata": {},
   "outputs": [
    {
     "name": "stdout",
     "output_type": "stream",
     "text": [
      "Here we are ploting the Humidity vs Latitudes.\n"
     ]
    },
    {
     "data": {
      "image/png": "[encoded data removed]",
      "text/plain": [
       "<Figure size 432x288 with 1 Axes>"
      ]
     },
     "metadata": {
      "needs_background": "light"
     },
     "output_type": "display_data"
    }
   ],
   "source": [
    "x_values = city_df['Lat']\n",
    "y_values = city_df['Humidity']\n",
    "plt.ylim(0,300)\n",
    "plt.xlim(-60,80)\n",
    "plt.scatter(x_values,y_values)\n",
    "plt.xlabel('Latitude')\n",
    "plt.ylabel('Humidity (%)')\n",
    "plt.title(f'City Latitude vs Humidity ({dt})')\n",
    "plt.grid()\n",
    "#plt.show()\n",
    "plt.savefig(\"../output_data/LatitudeVsHumidity.png\")\n",
    "print('Here we are ploting the Humidity vs Latitudes.')"
   ]
  },
  {
   "cell_type": "markdown",
   "metadata": {},
   "source": [
    "#### Latitude vs. Cloudiness Plot"
   ]
  },
  {
   "cell_type": "code",
   "execution_count": 24,
   "metadata": {},
   "outputs": [
    {
     "name": "stdout",
     "output_type": "stream",
     "text": [
      "Here er are ploting Latitude vs Cloudiness. Ananlysis sya that the Clodiness is not dependent on Latitude. \n"
     ]
    },
    {
     "data": {
      "image/png": "[encoded data removed]",
      "text/plain": [
       "<Figure size 432x288 with 1 Axes>"
      ]
     },
     "metadata": {
      "needs_background": "light"
     },
     "output_type": "display_data"
    }
   ],
   "source": [
    "x_values = city_df['Lat']\n",
    "y_values = city_df['Cloudiness']\n",
    "plt.ylim(0,100)\n",
    "plt.xlim(-60,80)\n",
    "plt.scatter(x_values,y_values)\n",
    "plt.xlabel('Latitude')\n",
    "plt.ylabel('Cloudiness')\n",
    "plt.title(f'City Latitude vs Cloudiness ({dt})')\n",
    "plt.grid()\n",
    "#plt.show()\n",
    "plt.savefig(\"../output_data/LatitudeVsCloudiness.png\")\n",
    "print('Here er are ploting Latitude vs Cloudiness. Ananlysis sya that the Clodiness is not dependent on Latitude. ')"
   ]
  },
  {
   "cell_type": "markdown",
   "metadata": {},
   "source": [
    "#### Latitude vs. Wind Speed Plot"
   ]
  },
  {
   "cell_type": "code",
   "execution_count": 23,
   "metadata": {},
   "outputs": [
    {
     "name": "stdout",
     "output_type": "stream",
     "text": [
      "Here we are ploting Latitude vs Wind Speed.Ananlysis say that Latitude has no affect on wind speed\n"
     ]
    },
    {
     "data": {
      "image/png": "[encoded data removed]",
      "text/plain": [
       "<Figure size 432x288 with 1 Axes>"
      ]
     },
     "metadata": {
      "needs_background": "light"
     },
     "output_type": "display_data"
    }
   ],
   "source": [
    "x_values = city_df['Lat']\n",
    "y_values = city_df['Wind_Speed']\n",
    "plt.ylim(0,40)\n",
    "plt.xlim(-60,80)\n",
    "plt.scatter(x_values,y_values)\n",
    "plt.ylabel('Wind Speed (mph)')\n",
    "plt.xlabel('Latitude')\n",
    "plt.title(f'City Latitude vs Wind Speed ({dt})')\n",
    "plt.grid()\n",
    "#plt.show()\n",
    "plt.savefig(\"../output_data/LatitudeVsWindSpeed.png\")\n",
    "print('Here we are ploting Latitude vs Wind Speed.Ananlysis say that Latitude has no affect on wind speed')"
   ]
  },
  {
   "cell_type": "markdown",
   "metadata": {},
   "source": [
    "## Linear Regression"
   ]
  },
  {
   "cell_type": "code",
   "execution_count": 13,
   "metadata": {},
   "outputs": [],
   "source": [
    "# OPTIONAL: Create a function to create Linear Regression plots\n",
    "def cal_regression(x_values, y_values):\n",
    "    # Perform a linear regression on x and y \n",
    "    #(slope, intercept, rvalue, pvalue, stderr) = stats.linregress(x_values, y_values)\n",
    "    (slope, intercept, rvalue, pvalue, stderr) = linregress(x_values, y_values)\n",
    "    #linregress\n",
    "\n",
    "    # Get regression values\n",
    "    regress_values = x_values * slope + intercept\n",
    "    \n",
    "    plt.plot(x_values,regress_values,\"r-\")\n",
    "    line_eq = \"y = \" + str(round(slope,2)) + \"x +\" + str(round(intercept,2))\n",
    "    plt.annotate(line_eq,(20,15),fontsize=15,color=\"red\")\n",
    "    #print(line_eq)\n",
    "    return regress_values"
   ]
  },
  {
   "cell_type": "code",
   "execution_count": 14,
   "metadata": {},
   "outputs": [
    {
     "data": {
      "text/html": [
       "<div>\n",
       "<style scoped>\n",
       "    .dataframe tbody tr th:only-of-type {\n",
       "        vertical-align: middle;\n",
       "    }\n",
       "\n",
       "    .dataframe tbody tr th {\n",
       "        vertical-align: top;\n",
       "    }\n",
       "\n",
       "    .dataframe thead th {\n",
       "        text-align: right;\n",
       "    }\n",
       "</style>\n",
       "<table border=\"1\" class=\"dataframe\">\n",
       "  <thead>\n",
       "    <tr style=\"text-align: right;\">\n",
       "      <th></th>\n",
       "      <th>cities</th>\n",
       "      <th>Cloudiness</th>\n",
       "      <th>Country</th>\n",
       "      <th>Date</th>\n",
       "      <th>Humidity</th>\n",
       "      <th>Lat</th>\n",
       "      <th>Lng</th>\n",
       "      <th>Max_Temp</th>\n",
       "      <th>Wind_Speed</th>\n",
       "    </tr>\n",
       "  </thead>\n",
       "  <tbody>\n",
       "    <tr>\n",
       "      <th>0</th>\n",
       "      <td>Hobart</td>\n",
       "      <td>20</td>\n",
       "      <td>AU</td>\n",
       "      <td>1578277144</td>\n",
       "      <td>55</td>\n",
       "      <td>-42.88</td>\n",
       "      <td>147.33</td>\n",
       "      <td>77.00</td>\n",
       "      <td>16.11</td>\n",
       "    </tr>\n",
       "    <tr>\n",
       "      <th>2</th>\n",
       "      <td>Coquimbo</td>\n",
       "      <td>0</td>\n",
       "      <td>CL</td>\n",
       "      <td>1578277144</td>\n",
       "      <td>72</td>\n",
       "      <td>-29.95</td>\n",
       "      <td>-71.34</td>\n",
       "      <td>62.60</td>\n",
       "      <td>2.24</td>\n",
       "    </tr>\n",
       "    <tr>\n",
       "      <th>3</th>\n",
       "      <td>Chuy</td>\n",
       "      <td>0</td>\n",
       "      <td>UY</td>\n",
       "      <td>1578277143</td>\n",
       "      <td>85</td>\n",
       "      <td>-33.69</td>\n",
       "      <td>-53.46</td>\n",
       "      <td>69.55</td>\n",
       "      <td>11.83</td>\n",
       "    </tr>\n",
       "    <tr>\n",
       "      <th>6</th>\n",
       "      <td>Sao Joao do Piaui</td>\n",
       "      <td>97</td>\n",
       "      <td>BR</td>\n",
       "      <td>1578277144</td>\n",
       "      <td>82</td>\n",
       "      <td>-8.36</td>\n",
       "      <td>-42.25</td>\n",
       "      <td>72.25</td>\n",
       "      <td>1.81</td>\n",
       "    </tr>\n",
       "    <tr>\n",
       "      <th>9</th>\n",
       "      <td>Busselton</td>\n",
       "      <td>23</td>\n",
       "      <td>AU</td>\n",
       "      <td>1578276331</td>\n",
       "      <td>17</td>\n",
       "      <td>-33.64</td>\n",
       "      <td>115.35</td>\n",
       "      <td>90.00</td>\n",
       "      <td>11.43</td>\n",
       "    </tr>\n",
       "  </tbody>\n",
       "</table>\n",
       "</div>"
      ],
      "text/plain": [
       "              cities  Cloudiness Country        Date  Humidity    Lat     Lng  \\\n",
       "0             Hobart          20      AU  1578277144        55 -42.88  147.33   \n",
       "2           Coquimbo           0      CL  1578277144        72 -29.95  -71.34   \n",
       "3               Chuy           0      UY  1578277143        85 -33.69  -53.46   \n",
       "6  Sao Joao do Piaui          97      BR  1578277144        82  -8.36  -42.25   \n",
       "9          Busselton          23      AU  1578276331        17 -33.64  115.35   \n",
       "\n",
       "   Max_Temp  Wind_Speed  \n",
       "0     77.00       16.11  \n",
       "2     62.60        2.24  \n",
       "3     69.55       11.83  \n",
       "6     72.25        1.81  \n",
       "9     90.00       11.43  "
      ]
     },
     "execution_count": 14,
     "metadata": {},
     "output_type": "execute_result"
    }
   ],
   "source": [
    "# Create Northern and Southern Hemisphere DataFrames\n",
    "north_df=city_df[(city_df[\"Lat\"]>0)]\n",
    "north_df.head()\n",
    "\n",
    "south_df=city_df[(city_df[\"Lat\"]<0)]\n",
    "south_df.head()"
   ]
  },
  {
   "cell_type": "markdown",
   "metadata": {},
   "source": [
    "####  Northern Hemisphere - Max Temp vs. Latitude Linear Regression"
   ]
  },
  {
   "cell_type": "code",
   "execution_count": 15,
   "metadata": {},
   "outputs": [
    {
     "name": "stdout",
     "output_type": "stream",
     "text": [
      "The r-squared is: -0.8755834300145094\n"
     ]
    },
    {
     "data": {
      "image/png": "[encoded data removed]",
      "text/plain": [
       "<Figure size 432x288 with 1 Axes>"
      ]
     },
     "metadata": {
      "needs_background": "light"
     },
     "output_type": "display_data"
    },
    {
     "name": "stdout",
     "output_type": "stream",
     "text": [
      "Negatively corelated\n"
     ]
    },
    {
     "data": {
      "text/plain": [
       "<Figure size 432x288 with 0 Axes>"
      ]
     },
     "metadata": {},
     "output_type": "display_data"
    }
   ],
   "source": [
    "\n",
    "plt.scatter(north_df[\"Lat\"],north_df[\"Max_Temp\"])\n",
    "plt.ylim(0,100)\n",
    "plt.xlim(0,80)\n",
    "plt.xlabel(\"Latitude\")\n",
    "plt.ylabel(\"Max Temp\")\n",
    "plt.title(\"Northern Hemisphere - Max Temp vs. Latitude Linear Regression\")   \n",
    "\n",
    "#liner regression    \n",
    "(slope, intercept, rvalue, pvalue, stderr) = linregress(north_df[\"Lat\"],north_df[\"Max_Temp\"])\n",
    "#linregress\n",
    "\n",
    "# Get regression values\n",
    "regress_values =north_df[\"Lat\"] * slope + intercept\n",
    "    \n",
    "plt.plot(north_df[\"Lat\"],regress_values,\"r-\")\n",
    "line_eq = \"y = \" + str(round(slope,2)) + \"x +\" + str(round(intercept,2))\n",
    "plt.annotate(line_eq,(20,45),fontsize=15,color=\"red\")\n",
    "#print(line_eq)\n",
    "print(f\"The r-squared is: {rvalue}\")\n",
    "#call the regression function\n",
    "#reg_North_temp_lat =cal_regression(north_df[\"Lat\"],north_df[\"Max_Temp\"])\n",
    "plt.show()            \n",
    "plt.savefig(\"../output_data/NorthHmsTemp_lat.png\")            \n",
    "            \n",
    "print('Negatively corelated')        "
   ]
  },
  {
   "cell_type": "markdown",
   "metadata": {},
   "source": [
    "####  Southern Hemisphere - Max Temp vs. Latitude Linear Regression"
   ]
  },
  {
   "cell_type": "code",
   "execution_count": 16,
   "metadata": {},
   "outputs": [
    {
     "name": "stdout",
     "output_type": "stream",
     "text": [
      "The r-squared is: 0.4561297383093546\n"
     ]
    },
    {
     "data": {
      "image/png": "[encoded data removed]",
      "text/plain": [
       "<Figure size 432x288 with 1 Axes>"
      ]
     },
     "metadata": {
      "needs_background": "light"
     },
     "output_type": "display_data"
    },
    {
     "name": "stdout",
     "output_type": "stream",
     "text": [
      "R vale is low\n"
     ]
    },
    {
     "data": {
      "text/plain": [
       "<Figure size 432x288 with 0 Axes>"
      ]
     },
     "metadata": {},
     "output_type": "display_data"
    }
   ],
   "source": [
    "\n",
    "plt.scatter(south_df[\"Lat\"],south_df[\"Max_Temp\"])\n",
    "plt.ylim(0,90)\n",
    "plt.xlim(-50,0)\n",
    "plt.xlabel(\"Latitude\")\n",
    "plt.ylabel(\"Max Temp\")\n",
    "plt.title(\"Southern Hemisphere - Max Temp vs. Latitude Linear Regression\")   \n",
    "\n",
    "\n",
    "#liner regression    \n",
    "(slope, intercept, rvalue, pvalue, stderr) = linregress(south_df[\"Lat\"],south_df[\"Max_Temp\"])\n",
    "#linregress\n",
    "\n",
    "# Get regression values\n",
    "regress_values =south_df[\"Lat\"] * slope + intercept\n",
    "    \n",
    "plt.plot(south_df[\"Lat\"],regress_values,\"r-\")\n",
    "line_eq = \"y = \" + str(round(slope,2)) + \"x +\" + str(round(intercept,2))\n",
    "plt.annotate(line_eq,(-40,55),fontsize=15,color=\"red\")\n",
    "#print(line_eq)\n",
    "print(f\"The r-squared is: {rvalue}\")\n",
    "#call the regression function\n",
    "reg_south_temp_lat =cal_regression(south_df[\"Lat\"],south_df[\"Max_Temp\"])\n",
    "plt.show()  \n",
    "plt.savefig(\"../output_data/SouthHmsTemp_lat.png\") \n",
    "print('R vale is low')"
   ]
  },
  {
   "cell_type": "markdown",
   "metadata": {},
   "source": [
    "####  Northern Hemisphere - Humidity (%) vs. Latitude Linear Regression"
   ]
  },
  {
   "cell_type": "code",
   "execution_count": 17,
   "metadata": {},
   "outputs": [
    {
     "name": "stdout",
     "output_type": "stream",
     "text": [
      "The r-squared is: 0.3778645535235319\n"
     ]
    },
    {
     "data": {
      "image/png": "[encoded data removed]",
      "text/plain": [
       "<Figure size 432x288 with 1 Axes>"
      ]
     },
     "metadata": {
      "needs_background": "light"
     },
     "output_type": "display_data"
    },
    {
     "name": "stdout",
     "output_type": "stream",
     "text": [
      "Positive but the r value is very low\n"
     ]
    },
    {
     "data": {
      "text/plain": [
       "<Figure size 432x288 with 0 Axes>"
      ]
     },
     "metadata": {},
     "output_type": "display_data"
    }
   ],
   "source": [
    "\n",
    "plt.scatter(north_df[\"Lat\"],north_df[\"Humidity\"])\n",
    "plt.ylim(0,100)\n",
    "plt.xlim(0,80)\n",
    "plt.xlabel(\"Latitude\")\n",
    "plt.ylabel(\"Humidity\")\n",
    "plt.title(\"Northern Hemisphere - Humidity vs. Latitude Linear Regression\")   \n",
    "\n",
    "#liner regression    \n",
    "(slope, intercept, rvalue, pvalue, stderr) = linregress(north_df[\"Lat\"],north_df[\"Humidity\"])\n",
    "#linregress\n",
    "\n",
    "# Get regression values\n",
    "regress_values =north_df[\"Lat\"] * slope + intercept\n",
    "    \n",
    "plt.plot(north_df[\"Lat\"],regress_values,\"r-\")\n",
    "line_eq = \"y = \" + str(round(slope,2)) + \"x +\" + str(round(intercept,2))\n",
    "plt.annotate(line_eq,(20,25),fontsize=15,color=\"red\")\n",
    "#print(line_eq)\n",
    "print(f\"The r-squared is: {rvalue}\")\n",
    "\n",
    "plt.show()            \n",
    "plt.savefig(\"../output_data/NorthHmsHumidity_lat.png\")            \n",
    "print('Positive but the r value is very low')"
   ]
  },
  {
   "cell_type": "markdown",
   "metadata": {},
   "source": [
    "####  Southern Hemisphere - Humidity (%) vs. Latitude Linear Regression"
   ]
  },
  {
   "cell_type": "code",
   "execution_count": 18,
   "metadata": {},
   "outputs": [
    {
     "name": "stdout",
     "output_type": "stream",
     "text": [
      "The r-squared is: 0.33619866811247795\n"
     ]
    },
    {
     "data": {
      "image/png": "[encoded data removed]",
      "text/plain": [
       "<Figure size 432x288 with 1 Axes>"
      ]
     },
     "metadata": {
      "needs_background": "light"
     },
     "output_type": "display_data"
    },
    {
     "data": {
      "text/plain": [
       "<Figure size 432x288 with 0 Axes>"
      ]
     },
     "metadata": {},
     "output_type": "display_data"
    }
   ],
   "source": [
    "#print(south_df[\"Humidity\"].max())\n",
    "#print(south_df[\"Humidity\"].min())\n",
    "#print(south_df[\"Lat\"].max())\n",
    "#print(south_df[\"Lat\"].min())\n",
    "#print(north_df[\"Humidity\"].count())\n",
    "#print(city_df[\"Humidity\"].count())\n",
    "\n",
    "\n",
    "\n",
    "plt.scatter(south_df[\"Lat\"],south_df[\"Humidity\"])\n",
    "plt.ylim(0,300)\n",
    "plt.xlim(-50,0)\n",
    "plt.xlabel(\"Latitude\")\n",
    "plt.ylabel(\"Humidity\")\n",
    "plt.title(\"Southern Hemisphere - Humidity vs. Latitude Linear Regression\")   \n",
    "\n",
    "#liner regression    \n",
    "(slope, intercept, rvalue, pvalue, stderr) = linregress(south_df[\"Lat\"],south_df[\"Humidity\"])\n",
    "#linregress\n",
    "\n",
    "# Get regression values\n",
    "regress_values =south_df[\"Lat\"] * slope + intercept\n",
    "    \n",
    "plt.plot(south_df[\"Lat\"],regress_values,\"r-\")\n",
    "line_eq = \"y = \" + str(round(slope,2)) + \"x +\" + str(round(intercept,2))\n",
    "plt.annotate(line_eq,(-45,225),fontsize=15,color=\"red\")\n",
    "#print(line_eq)\n",
    "print(f\"The r-squared is: {rvalue}\")\n",
    "\n",
    "plt.show()            \n",
    "plt.savefig(\"../output_data/SouthHmsHumidity_lat.png\")                  "
   ]
  },
  {
   "cell_type": "markdown",
   "metadata": {},
   "source": [
    "####  Northern Hemisphere - Cloudiness (%) vs. Latitude Linear Regression"
   ]
  },
  {
   "cell_type": "code",
   "execution_count": 19,
   "metadata": {},
   "outputs": [
    {
     "name": "stdout",
     "output_type": "stream",
     "text": [
      "The r-squared is: 0.2712995521829663\n"
     ]
    },
    {
     "data": {
      "image/png": "[encoded data removed]",
      "text/plain": [
       "<Figure size 432x288 with 1 Axes>"
      ]
     },
     "metadata": {
      "needs_background": "light"
     },
     "output_type": "display_data"
    },
    {
     "name": "stdout",
     "output_type": "stream",
     "text": [
      "Positive coorelation but thevalue is very low\n"
     ]
    },
    {
     "data": {
      "text/plain": [
       "<Figure size 432x288 with 0 Axes>"
      ]
     },
     "metadata": {},
     "output_type": "display_data"
    }
   ],
   "source": [
    "\n",
    "plt.scatter(north_df[\"Lat\"],north_df[\"Cloudiness\"])\n",
    "plt.ylim(0,100)\n",
    "plt.xlim(0,80)\n",
    "plt.xlabel(\"Latitude\")\n",
    "plt.ylabel(\"Cloudiness\")\n",
    "plt.title(\"Northern Hemisphere - Cloudiness vs. Latitude Linear Regression\")   \n",
    "\n",
    "#liner regression    \n",
    "(slope, intercept, rvalue, pvalue, stderr) = linregress(north_df[\"Lat\"],north_df[\"Cloudiness\"])\n",
    "#linregress\n",
    "\n",
    "# Get regression values\n",
    "regress_values =north_df[\"Lat\"] * slope + intercept\n",
    "    \n",
    "plt.plot(north_df[\"Lat\"],regress_values,\"r-\")\n",
    "line_eq = \"y = \" + str(round(slope,2)) + \"x +\" + str(round(intercept,2))\n",
    "plt.annotate(line_eq,(20,25),fontsize=15,color=\"red\")\n",
    "#print(line_eq)\n",
    "print(f\"The r-squared is: {rvalue}\")\n",
    "\n",
    "plt.show() \n",
    "plt.savefig(\"../output_data/NorthHmsCloudiness_lat.png\")     \n",
    "print('Positive coorelation but thevalue is very low')"
   ]
  },
  {
   "cell_type": "markdown",
   "metadata": {},
   "source": [
    "####  Southern Hemisphere - Cloudiness (%) vs. Latitude Linear Regression"
   ]
  },
  {
   "cell_type": "code",
   "execution_count": 20,
   "metadata": {},
   "outputs": [
    {
     "name": "stdout",
     "output_type": "stream",
     "text": [
      "The r-squared is: 0.22491616202111797\n"
     ]
    },
    {
     "data": {
      "image/png": "[encoded data removed]",
      "text/plain": [
       "<Figure size 432x288 with 1 Axes>"
      ]
     },
     "metadata": {
      "needs_background": "light"
     },
     "output_type": "display_data"
    },
    {
     "name": "stdout",
     "output_type": "stream",
     "text": [
      "Not a good regression value\n"
     ]
    },
    {
     "data": {
      "text/plain": [
       "<Figure size 432x288 with 0 Axes>"
      ]
     },
     "metadata": {},
     "output_type": "display_data"
    }
   ],
   "source": [
    "plt.scatter(south_df[\"Lat\"],south_df[\"Cloudiness\"])\n",
    "plt.ylim(0,100)\n",
    "plt.xlim(-50,0)\n",
    "plt.xlabel(\"Latitude\")\n",
    "plt.ylabel(\"Cloudiness\")\n",
    "plt.title(\"Southern Hemisphere - Cloudiness vs. Latitude Linear Regression\")   \n",
    "\n",
    "#liner regression    \n",
    "(slope, intercept, rvalue, pvalue, stderr) = linregress(south_df[\"Lat\"],south_df[\"Cloudiness\"])\n",
    "#linregress\n",
    "\n",
    "# Get regression values\n",
    "regress_values =south_df[\"Lat\"] * slope + intercept\n",
    "    \n",
    "plt.plot(south_df[\"Lat\"],regress_values,\"r-\")\n",
    "line_eq = \"y = \" + str(round(slope,2)) + \"x +\" + str(round(intercept,2))\n",
    "plt.annotate(line_eq,(-35,25),fontsize=15,color=\"red\")\n",
    "#print(line_eq)\n",
    "print(f\"The r-squared is: {rvalue}\")\n",
    "\n",
    "plt.show()   \n",
    "plt.savefig(\"../output_data/SouthHmsCloudiness_lat.png\")   \n",
    "print('Not a good regression value')"
   ]
  },
  {
   "cell_type": "markdown",
   "metadata": {},
   "source": [
    "####  Northern Hemisphere - Wind Speed (mph) vs. Latitude Linear Regression"
   ]
  },
  {
   "cell_type": "code",
   "execution_count": 21,
   "metadata": {},
   "outputs": [
    {
     "name": "stdout",
     "output_type": "stream",
     "text": [
      "The r-squared is: 0.16910104873057266\n"
     ]
    },
    {
     "data": {
      "image/png": "[encoded data removed]",
      "text/plain": [
       "<Figure size 432x288 with 1 Axes>"
      ]
     },
     "metadata": {
      "needs_background": "light"
     },
     "output_type": "display_data"
    },
    {
     "name": "stdout",
     "output_type": "stream",
     "text": [
      "Not a good regression value\n"
     ]
    },
    {
     "data": {
      "text/plain": [
       "<Figure size 432x288 with 0 Axes>"
      ]
     },
     "metadata": {},
     "output_type": "display_data"
    }
   ],
   "source": [
    "\n",
    "#print(north_df.columns)\n",
    "plt.scatter(north_df[\"Lat\"],north_df[\"Wind_Speed\"])\n",
    "plt.ylim(0,30)\n",
    "plt.xlim(0,80)\n",
    "plt.xlabel(\"Latitude\")\n",
    "plt.ylabel(\"Wind_Speed\")\n",
    "plt.title(\"Northern Hemisphere - Wind_Speed vs. Latitude Linear Regression\")   \n",
    "\n",
    "#liner regression    \n",
    "(slope, intercept, rvalue, pvalue, stderr) = linregress(north_df[\"Lat\"],north_df[\"Wind_Speed\"])\n",
    "#linregress\n",
    "\n",
    "# Get regression values\n",
    "regress_values =north_df[\"Lat\"] * slope + intercept\n",
    "    \n",
    "plt.plot(north_df[\"Lat\"],regress_values,\"r-\")\n",
    "line_eq = \"y = \" + str(round(slope,2)) + \"x +\" + str(round(intercept,2))\n",
    "plt.annotate(line_eq,(20,25),fontsize=15,color=\"red\")\n",
    "#print(line_eq)\n",
    "print(f\"The r-squared is: {rvalue}\")\n",
    "\n",
    "plt.show() \n",
    "plt.savefig(\"../output_data/NorthHmsWindSpeed_lat.png\")   \n",
    "print('Not a good regression value')"
   ]
  },
  {
   "cell_type": "markdown",
   "metadata": {},
   "source": [
    "####  Southern Hemisphere - Wind Speed (mph) vs. Latitude Linear Regression"
   ]
  },
  {
   "cell_type": "code",
   "execution_count": 22,
   "metadata": {},
   "outputs": [
    {
     "name": "stdout",
     "output_type": "stream",
     "text": [
      "The r-squared is: -0.3368777295490659\n"
     ]
    },
    {
     "data": {
      "image/png": "[encoded data removed]",
      "text/plain": [
       "<Figure size 432x288 with 1 Axes>"
      ]
     },
     "metadata": {
      "needs_background": "light"
     },
     "output_type": "display_data"
    },
    {
     "name": "stdout",
     "output_type": "stream",
     "text": [
      "Negative regression\n"
     ]
    },
    {
     "data": {
      "text/plain": [
       "<Figure size 432x288 with 0 Axes>"
      ]
     },
     "metadata": {},
     "output_type": "display_data"
    }
   ],
   "source": [
    "plt.scatter(south_df[\"Lat\"],south_df[\"Wind_Speed\"])\n",
    "plt.ylim(0,35)\n",
    "plt.xlim(-50,0)\n",
    "plt.xlabel(\"Latitude\")\n",
    "plt.ylabel(\"Wind_Speed\")\n",
    "plt.title(\"Southern Hemisphere - Wind_Speed vs. Latitude Linear Regression\")   \n",
    "\n",
    "#liner regression    \n",
    "(slope, intercept, rvalue, pvalue, stderr) = linregress(south_df[\"Lat\"],south_df[\"Wind_Speed\"])\n",
    "#linregress\n",
    "\n",
    "# Get regression values\n",
    "regress_values =south_df[\"Lat\"] * slope + intercept\n",
    "    \n",
    "plt.plot(south_df[\"Lat\"],regress_values,\"r-\")\n",
    "line_eq = \"y = \" + str(round(slope,2)) + \"x +\" + str(round(intercept,2))\n",
    "plt.annotate(line_eq,(-45,25),fontsize=15,color=\"red\")\n",
    "#print(line_eq)\n",
    "print(f\"The r-squared is: {rvalue}\")\n",
    "\n",
    "plt.show()   \n",
    "plt.savefig(\"../output_data/SouthHmsWindSpeed_lat.png\") \n",
    "print('Negative regression')"
   ]
  },
  {
   "cell_type": "code",
   "execution_count": null,
   "metadata": {},
   "outputs": [],
   "source": []
  }
 ],
 "metadata": {
  "anaconda-cloud": {},
  "kernel_info": {
   "name": "python3"
  },
  "kernelspec": {
   "display_name": "Python 3",
   "language": "python",
   "name": "python3"
  },
  "language_info": {
   "codemirror_mode": {
    "name": "ipython",
    "version": 3
   },
   "file_extension": ".py",
   "mimetype": "text/x-python",
   "name": "python",
   "nbconvert_exporter": "python",
   "pygments_lexer": "ipython3",
   "version": "3.6.9"
  },
  "latex_envs": {
   "LaTeX_envs_menu_present": true,
   "autoclose": false,
   "autocomplete": true,
   "bibliofile": "biblio.bib",
   "cite_by": "apalike",
   "current_citInitial": 1,
   "eqLabelWithNumbers": true,
   "eqNumInitial": 1,
   "hotkeys": {
    "equation": "Ctrl-E",
    "itemize": "Ctrl-I"
   },
   "labels_anchors": false,
   "latex_user_defs": false,
   "report_style_numbering": false,
   "user_envs_cfg": false
  },
  "nteract": {
   "version": "0.12.3"
  }
 },
 "nbformat": 4,
 "nbformat_minor": 2
}

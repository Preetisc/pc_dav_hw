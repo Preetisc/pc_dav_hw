{
 "cells": [
  {
   "cell_type": "markdown",
   "metadata": {},
   "source": [
    "# WeatherPy\n",
    "----\n",
    "\n",
    "#### Note\n",
    "* Instructions have been included for each segment. You do not have to follow them exactly, but they are included to help you think through the steps."
   ]
  },
  {
   "cell_type": "code",
   "execution_count": 1,
   "metadata": {
    "scrolled": true
   },
   "outputs": [],
   "source": [
    "# Dependencies and Setup\n",
    "import matplotlib.pyplot as plt\n",
    "import pandas as pd\n",
    "import numpy as np\n",
    "import requests\n",
    "import time\n",
    "from scipy.stats import linregress\n",
    "import datetime as datetime\n",
    "\n",
    "# Import API key\n",
    "from api_keys import weather_api_key\n",
    "\n",
    "# Incorporated citipy to determine city based on latitude and longitude\n",
    "from citipy import citipy\n",
    "\n",
    "# Output File (CSV)\n",
    "output_data_file = \"../output_data/cities_PC.csv\"\n",
    "\n",
    "# Range of latitudes and longitudes\n",
    "lat_range = (-90, 90)\n",
    "lng_range = (-180, 180)"
   ]
  },
  {
   "cell_type": "markdown",
   "metadata": {},
   "source": [
    "## Generate Cities List"
   ]
  },
  {
   "cell_type": "code",
   "execution_count": 2,
   "metadata": {},
   "outputs": [
    {
     "data": {
      "text/plain": [
       "600"
      ]
     },
     "execution_count": 2,
     "metadata": {},
     "output_type": "execute_result"
    }
   ],
   "source": [
    "# List for holding lat_lngs and cities\n",
    "lat_lngs = []\n",
    "cities = []\n",
    "\n",
    "# Create a set of random lat and lng combinations\n",
    "lats = np.random.uniform(low=-90.000, high=90.000, size=1500)\n",
    "lngs = np.random.uniform(low=-180.000, high=180.000, size=1500)\n",
    "lat_lngs = zip(lats, lngs)\n",
    "\n",
    "# Identify nearest city for each lat, lng combination\n",
    "for lat_lng in lat_lngs:\n",
    "    city = citipy.nearest_city(lat_lng[0], lat_lng[1]).city_name\n",
    "    \n",
    "    # If the city is unique, then add it to a our cities list\n",
    "    if city not in cities:\n",
    "        cities.append(city)\n",
    "\n",
    "# Print the city count to confirm sufficient count\n",
    "len(cities)"
   ]
  },
  {
   "cell_type": "code",
   "execution_count": 3,
   "metadata": {},
   "outputs": [],
   "source": [
    "#print(cities)\n",
    "#print(weather_api_key)"
   ]
  },
  {
   "cell_type": "code",
   "execution_count": 4,
   "metadata": {},
   "outputs": [
    {
     "name": "stdout",
     "output_type": "stream",
     "text": [
      "City not found\n",
      "Processing Record  busselton  \n",
      "Processing Record  dikson  \n",
      "Processing Record  atuona  \n",
      "City not found\n",
      "Processing Record  kattivakkam  \n",
      "Processing Record  chulym  \n",
      "Processing Record  hilo  \n",
      "Processing Record  rikitea  \n",
      "Processing Record  butaritari  \n",
      "Processing Record  castro  \n",
      "Processing Record  ushuaia  \n",
      "Processing Record  arkhara  \n",
      "City not found\n",
      "Processing Record  kurikka  \n",
      "Processing Record  kapaa  \n",
      "Processing Record  bluff  \n",
      "City not found\n",
      "Processing Record  port alfred  \n",
      "Processing Record  coquimbo  \n",
      "Processing Record  atar  \n",
      "Processing Record  airai  \n",
      "Processing Record  pietermaritzburg  \n",
      "Processing Record  constitucion  \n",
      "City not found\n",
      "Processing Record  plettenberg bay  \n",
      "City not found\n",
      "Processing Record  carnarvon  \n",
      "Processing Record  mar del plata  \n",
      "Processing Record  yellowknife  \n",
      "Processing Record  soe  \n",
      "City not found\n",
      "Processing Record  kieta  \n",
      "Processing Record  yomou  \n",
      "City not found\n",
      "Processing Record  vaini  \n",
      "Processing Record  alattyan  \n",
      "Processing Record  hobart  \n",
      "Processing Record  alice springs  \n",
      "Processing Record  east london  \n",
      "City not found\n",
      "Processing Record  bredasdorp  \n",
      "Processing Record  esperance  \n",
      "Processing Record  arraial do cabo  \n",
      "City not found\n",
      "Processing Record  fuyang  \n",
      "Processing Record  iwaki  \n",
      "Processing Record  cape town  \n",
      "Processing Record  monrovia  \n",
      "Processing Record  tocopilla  \n",
      "Processing Record  innisfail  \n",
      "Processing Record  kutum  \n",
      "Processing Record  sao gotardo  \n",
      "Processing Record  eureka  \n",
      "Processing Record  vila velha  \n",
      "Processing Record  dingle  \n",
      "Processing Record  souillac  \n",
      "Processing Record  ancud  \n",
      "Processing Record  sao filipe  \n",
      "Processing Record  cidreira  \n",
      "Processing Record  qaanaaq  \n",
      "Processing Record  georgetown  \n",
      "Processing Record  kodiak  \n",
      "Processing Record  jamestown  \n",
      "Processing Record  dzerzhinsk  \n",
      "Processing Record  clinton  \n",
      "Processing Record  yabelo  \n",
      "Processing Record  saint-philippe  \n",
      "Processing Record  guane  \n",
      "Processing Record  new norfolk  \n",
      "Processing Record  broken hill  \n",
      "City not found\n",
      "Processing Record  vigo  \n",
      "Processing Record  baykit  \n",
      "Processing Record  pacific grove  \n",
      "Processing Record  port blair  \n",
      "Processing Record  punta arenas  \n",
      "Processing Record  visnes  \n",
      "Processing Record  vitim  \n",
      "Processing Record  mataura  \n",
      "Processing Record  thompson  \n",
      "Processing Record  lufilufi  \n",
      "Processing Record  san quintin  \n",
      "Processing Record  pochutla  \n",
      "Processing Record  saint george  \n",
      "Processing Record  doka  \n",
      "Processing Record  celestun  \n",
      "Processing Record  hirara  \n",
      "Processing Record  provideniya  \n",
      "Processing Record  namibe  \n",
      "Processing Record  hithadhoo  \n",
      "Processing Record  darnah  \n",
      "Processing Record  gat  \n",
      "Processing Record  severo-kurilsk  \n",
      "Processing Record  gizo  \n",
      "Processing Record  mitsamiouli  \n",
      "Processing Record  lodja  \n",
      "Processing Record  port elizabeth  \n",
      "Processing Record  jashpurnagar  \n",
      "Processing Record  antananarivo  \n",
      "City not found\n",
      "Processing Record  muzhi  \n",
      "Processing Record  zyryanka  \n",
      "Processing Record  palmer  \n",
      "Processing Record  goderich  \n",
      "Processing Record  kashira  \n",
      "Processing Record  mpigi  \n",
      "Processing Record  ghanzi  \n",
      "Processing Record  tuktoyaktuk  \n",
      "Processing Record  portland  \n",
      "City not found\n",
      "Processing Record  kaitangata  \n",
      "Processing Record  sladkovo  \n",
      "City not found\n",
      "City not found\n",
      "Processing Record  theog  \n",
      "Processing Record  albany  \n",
      "Processing Record  puerto ayora  \n",
      "Processing Record  narsaq  \n",
      "Processing Record  alto araguaia  \n",
      "Processing Record  ribeira grande  \n",
      "Processing Record  mulege  \n",
      "Processing Record  avarua  \n",
      "Processing Record  nuevo progreso  \n",
      "City not found\n",
      "Processing Record  fare  \n",
      "Processing Record  chiang khong  \n",
      "Processing Record  saint-augustin  \n",
      "Processing Record  bethel  \n",
      "Processing Record  chama  \n",
      "Processing Record  fortuna  \n",
      "Processing Record  manono  \n",
      "Processing Record  suluq  \n",
      "Processing Record  correntina  \n",
      "Processing Record  mount isa  \n",
      "Processing Record  talnakh  \n",
      "Processing Record  astoria  \n",
      "Processing Record  barrow  \n",
      "Processing Record  upernavik  \n",
      "Processing Record  quatre cocos  \n",
      "Processing Record  kenai  \n",
      "Processing Record  rovaniemi  \n",
      "Processing Record  baft  \n",
      "Processing Record  torbay  \n",
      "Processing Record  torrejon de ardoz  \n",
      "City not found\n",
      "Processing Record  grand gaube  \n",
      "Processing Record  cherskiy  \n",
      "Processing Record  hualmay  \n",
      "Processing Record  severodvinsk  \n",
      "Processing Record  gorom-gorom  \n",
      "Processing Record  beamsville  \n",
      "Processing Record  pozo colorado  \n",
      "Processing Record  porto novo  \n",
      "Processing Record  ust-barguzin  \n",
      "City not found\n",
      "Processing Record  wajid  \n",
      "Processing Record  nikolskoye  \n",
      "Processing Record  akureyri  \n",
      "Processing Record  gobabis  \n",
      "Processing Record  repnoye  \n",
      "Processing Record  san patricio  \n",
      "Processing Record  isangel  \n",
      "Processing Record  bilma  \n",
      "Processing Record  katherine  \n",
      "Processing Record  hermanus  \n",
      "Processing Record  merauke  \n",
      "Processing Record  boyolangu  \n",
      "Processing Record  herouville-saint-clair  \n",
      "Processing Record  ballina  \n",
      "Processing Record  geraldton  \n",
      "Processing Record  jambi  \n",
      "Processing Record  tezu  \n",
      "Processing Record  sao joao da barra  \n",
      "Processing Record  kosh-agach  \n",
      "Processing Record  longyearbyen  \n",
      "Processing Record  santa vitoria  \n",
      "Processing Record  avera  \n",
      "Processing Record  mahebourg  \n",
      "Processing Record  pangnirtung  \n",
      "Processing Record  mandalgovi  \n",
      "Processing Record  vyshkov  \n",
      "Processing Record  izmayil  \n",
      "Processing Record  bambous virieux  \n",
      "Processing Record  chokurdakh  \n",
      "Processing Record  honiara  \n",
      "Processing Record  cayenne  \n",
      "Processing Record  victoria  \n",
      "Processing Record  yaan  \n",
      "City not found\n",
      "City not found\n",
      "Processing Record  shache  \n",
      "Processing Record  pevek  \n",
      "City not found\n",
      "Processing Record  codrington  \n",
      "Processing Record  sorong  \n",
      "Processing Record  takoradi  \n",
      "Processing Record  orlandia  \n",
      "Processing Record  isparta  \n",
      "Processing Record  awjilah  \n",
      "City not found\n",
      "City not found\n",
      "Processing Record  marawi  \n",
      "Processing Record  longkou  \n",
      "Processing Record  campinas  \n",
      "Processing Record  porto belo  \n",
      "Processing Record  ponnani  \n",
      "Processing Record  omboue  \n",
      "City not found\n",
      "City not found\n",
      "Processing Record  susurluk  \n",
      "Processing Record  sicamous  \n",
      "Processing Record  sakaiminato  \n",
      "Processing Record  pringsewu  \n",
      "Processing Record  koroni  \n",
      "Processing Record  portel  \n",
      "City not found\n",
      "Processing Record  klaksvik  \n",
      "Processing Record  saurimo  \n",
      "Processing Record  denpasar  \n",
      "City not found\n",
      "Processing Record  borogontsy  \n",
      "Processing Record  tunceli  \n",
      "Processing Record  pampa  \n",
      "Processing Record  barberton  \n",
      "Processing Record  melfi  \n",
      "Processing Record  dukat  \n",
      "Processing Record  ilhabela  \n",
      "Processing Record  margate  \n",
      "Processing Record  beaufort  \n",
      "Processing Record  madang  \n",
      "Processing Record  huilong  \n",
      "Processing Record  velyka oleksandrivka  \n",
      "Processing Record  kirakira  \n",
      "Processing Record  vuktyl  \n",
      "Processing Record  sorland  \n",
      "Processing Record  santa cruz de tenerife  \n",
      "Processing Record  tasiilaq  \n",
      "Processing Record  bereda  \n",
      "Processing Record  ahipara  \n",
      "Processing Record  clyde river  \n",
      "Processing Record  bedele  \n",
      "City not found\n",
      "Processing Record  iqaluit  \n",
      "Processing Record  huanuco  \n",
      "Processing Record  opuwo  \n",
      "Processing Record  ankara  \n",
      "Processing Record  mpika  \n",
      "Processing Record  mwingi  \n",
      "Processing Record  warrnambool  \n",
      "Processing Record  diamantino  \n",
      "Processing Record  durant  \n",
      "Processing Record  anadyr  \n",
      "Processing Record  mayskiy  \n",
      "Processing Record  hasaki  \n",
      "Processing Record  puerto escondido  \n",
      "Processing Record  garden city  \n",
      "Processing Record  alofi  \n",
      "Processing Record  saldanha  \n",
      "Processing Record  khatanga  \n",
      "Processing Record  ilanskiy  \n",
      "Processing Record  haicheng  \n",
      "Processing Record  lokoja  \n",
      "Processing Record  jalu  \n",
      "Processing Record  priyutnoye  \n",
      "Processing Record  shebalino  \n",
      "Processing Record  luderitz  \n",
      "Processing Record  rawson  \n",
      "Processing Record  douglas  \n",
      "Processing Record  mount gambier  \n",
      "Processing Record  roanoke rapids  \n",
      "Processing Record  lerwick  \n",
      "Processing Record  ryotsu  \n",
      "Processing Record  owerri  \n",
      "Processing Record  beloha  \n",
      "Processing Record  nouadhibou  \n",
      "Processing Record  kupang  \n",
      "Processing Record  marsa matruh  \n",
      "Processing Record  freeport  \n",
      "Processing Record  manzanillo  \n",
      "Processing Record  santa maria  \n",
      "Processing Record  passy  \n",
      "Processing Record  lorengau  \n",
      "Processing Record  faanui  \n",
      "City not found\n",
      "Processing Record  hambantota  \n",
      "City not found\n",
      "Processing Record  ponta delgada  \n",
      "Processing Record  vanavara  \n",
      "Processing Record  adrar  \n",
      "Processing Record  dudinka  \n"
     ]
    },
    {
     "name": "stdout",
     "output_type": "stream",
     "text": [
      "Processing Record  sassandra  \n",
      "Processing Record  izhma  \n",
      "Processing Record  port-cartier  \n",
      "Processing Record  paamiut  \n",
      "Processing Record  ponta do sol  \n",
      "Processing Record  luwuk  \n",
      "Processing Record  puerto cabezas  \n",
      "Processing Record  lavrentiya  \n",
      "Processing Record  henderson  \n",
      "Processing Record  puerto suarez  \n",
      "Processing Record  bochalema  \n",
      "Processing Record  salalah  \n",
      "Processing Record  cordoba  \n",
      "Processing Record  ashqelon  \n",
      "Processing Record  moerai  \n",
      "Processing Record  gari  \n",
      "Processing Record  tuatapere  \n",
      "Processing Record  gravelbourg  \n",
      "Processing Record  lata  \n",
      "Processing Record  nurota  \n",
      "Processing Record  gladstone  \n",
      "City not found\n",
      "City not found\n",
      "Processing Record  clarksdale  \n",
      "Processing Record  mirabad  \n",
      "City not found\n",
      "City not found\n",
      "Processing Record  nantucket  \n",
      "Processing Record  godfrey  \n",
      "Processing Record  svetlogorsk  \n",
      "Processing Record  inhambane  \n",
      "Processing Record  requena  \n",
      "Processing Record  nedjo  \n",
      "Processing Record  blyth  \n",
      "Processing Record  yar-sale  \n",
      "Processing Record  maragogi  \n",
      "Processing Record  havre-saint-pierre  \n",
      "Processing Record  nabire  \n",
      "Processing Record  glendive  \n",
      "Processing Record  antofagasta  \n",
      "Processing Record  ravar  \n",
      "Processing Record  koumac  \n",
      "Processing Record  saskylakh  \n",
      "Processing Record  gorontalo  \n",
      "Processing Record  winnemucca  \n",
      "Processing Record  shakiso  \n",
      "Processing Record  tornio  \n",
      "Processing Record  jiaxing  \n",
      "Processing Record  xining  \n",
      "Processing Record  rzhaksa  \n",
      "Processing Record  lebu  \n",
      "Processing Record  richards bay  \n",
      "Processing Record  jacareacanga  \n",
      "Processing Record  sangar  \n",
      "Processing Record  lagoa  \n",
      "Processing Record  polur  \n",
      "City not found\n",
      "Processing Record  katsuura  \n",
      "Processing Record  moree  \n",
      "Processing Record  bathsheba  \n",
      "Processing Record  zhangye  \n",
      "Processing Record  kirgiz-miyaki  \n",
      "Processing Record  fort nelson  \n",
      "Processing Record  sioux lookout  \n",
      "Processing Record  leningradskiy  \n",
      "Processing Record  atambua  \n",
      "Processing Record  vikhorevka  \n",
      "Processing Record  north bend  \n",
      "Processing Record  idanre  \n",
      "City not found\n",
      "Processing Record  dunedin  \n",
      "City not found\n",
      "Processing Record  laguna  \n",
      "Processing Record  poso  \n",
      "Processing Record  port-de-bouc  \n",
      "Processing Record  panjakent  \n",
      "Processing Record  touros  \n",
      "Processing Record  totma  \n",
      "Processing Record  ankang  \n",
      "Processing Record  ayan  \n",
      "Processing Record  oranjestad  \n",
      "Processing Record  kiruna  \n",
      "Processing Record  cap malheureux  \n",
      "Processing Record  vardo  \n",
      "Processing Record  sojat  \n",
      "Processing Record  flinders  \n",
      "Processing Record  hamme  \n",
      "Processing Record  hamilton  \n",
      "Processing Record  la ronge  \n",
      "City not found\n",
      "Processing Record  chuy  \n",
      "Processing Record  cicero dantas  \n",
      "Processing Record  nanortalik  \n",
      "Processing Record  kedrovoye  \n",
      "Processing Record  diffa  \n",
      "Processing Record  cabo san lucas  \n",
      "Processing Record  aksu  \n",
      "Processing Record  martapura  \n",
      "Processing Record  pisco  \n",
      "Processing Record  khilok  \n",
      "Processing Record  kant  \n",
      "City not found\n",
      "Processing Record  grindavik  \n",
      "City not found\n",
      "Processing Record  suntar  \n",
      "Processing Record  owando  \n",
      "Processing Record  malinovskiy  \n",
      "Processing Record  washougal  \n",
      "City not found\n",
      "Processing Record  carballo  \n",
      "Processing Record  elko  \n",
      "Processing Record  itarema  \n",
      "Processing Record  bondo  \n",
      "Processing Record  neiafu  \n",
      "City not found\n",
      "City not found\n",
      "Processing Record  puerto narino  \n",
      "Processing Record  gukovo  \n",
      "City not found\n",
      "Processing Record  broome  \n",
      "Processing Record  waddan  \n",
      "Processing Record  lompoc  \n",
      "Processing Record  chunskiy  \n",
      "Processing Record  tokur  \n",
      "Processing Record  lumphat  \n",
      "Processing Record  tiksi  \n",
      "Processing Record  mnogovershinnyy  \n",
      "Processing Record  salta  \n",
      "Processing Record  port hardy  \n",
      "Processing Record  sitges  \n",
      "Processing Record  khandyga  \n",
      "Processing Record  saint-francois  \n",
      "Processing Record  torres  \n",
      "Processing Record  port hawkesbury  \n",
      "Processing Record  muravlenko  \n",
      "Processing Record  huayucachi  \n",
      "Processing Record  san cristobal  \n",
      "Processing Record  sembakung  \n",
      "City not found\n",
      "Processing Record  vao  \n",
      "Processing Record  nizhnyaya salda  \n",
      "Processing Record  nuuk  \n",
      "Processing Record  tessalit  \n",
      "Processing Record  havoysund  \n",
      "Processing Record  tura  \n",
      "Processing Record  cardonal  \n",
      "Processing Record  zavodoukovsk  \n",
      "Processing Record  morro bay  \n",
      "Processing Record  katangli  \n",
      "Processing Record  mecca  \n",
      "Processing Record  pau brasil  \n",
      "Processing Record  carmen  \n",
      "Processing Record  kwinana  \n",
      "Processing Record  ilulissat  \n",
      "Processing Record  roma  \n",
      "City not found\n",
      "Processing Record  gornopravdinsk  \n",
      "Processing Record  hami  \n",
      "Processing Record  hervey bay  \n",
      "Processing Record  kangaatsiaq  \n",
      "Processing Record  waipawa  \n",
      "Processing Record  sao jose da coroa grande  \n",
      "Processing Record  bethanien  \n",
      "Processing Record  gazimurskiy zavod  \n",
      "Processing Record  nangong  \n",
      "Processing Record  abaete  \n",
      "Processing Record  blairmore  \n",
      "Processing Record  sinnamary  \n",
      "Processing Record  senneterre  \n",
      "Processing Record  kozhva  \n",
      "Processing Record  saint-pierre  \n",
      "Processing Record  atasu  \n",
      "Processing Record  peruibe  \n",
      "Processing Record  acajutla  \n",
      "Processing Record  tabou  \n",
      "Processing Record  namatanai  \n",
      "Processing Record  sioni  \n",
      "City not found\n",
      "Processing Record  caravelas  \n",
      "Processing Record  zhigalovo  \n",
      "Processing Record  ewa beach  \n",
      "Processing Record  byron bay  \n",
      "Processing Record  boali  \n",
      "Processing Record  sobolevo  \n",
      "Processing Record  camargo  \n",
      "Processing Record  vila franca do campo  \n",
      "Processing Record  yumen  \n",
      "Processing Record  dwarka  \n",
      "Processing Record  nuevitas  \n",
      "Processing Record  rexburg  \n",
      "Processing Record  bloemfontein  \n",
      "Processing Record  kuytun  \n",
      "Processing Record  ringkobing  \n",
      "Processing Record  vaitape  \n",
      "Processing Record  petropavlovsk-kamchatskiy  \n",
      "Processing Record  normandin  \n",
      "Processing Record  kalmunai  \n",
      "Processing Record  channel-port aux basques  \n",
      "Processing Record  kashima  \n",
      "Processing Record  hailey  \n",
      "Processing Record  batagay-alyta  \n",
      "Processing Record  pedernales  \n",
      "Processing Record  nagato  \n",
      "Processing Record  kavieng  \n",
      "City not found\n",
      "Processing Record  christchurch  \n",
      "Processing Record  aykhal  \n",
      "Processing Record  general pico  \n",
      "Processing Record  yekaterinovka  \n",
      "Processing Record  bandarbeyla  \n",
      "Processing Record  dabhol  \n",
      "Processing Record  savonlinna  \n",
      "Processing Record  bilibino  \n",
      "Processing Record  sur  \n",
      "Processing Record  ucluelet  \n",
      "Processing Record  bowen  \n",
      "City not found\n",
      "Processing Record  diyarb najm  \n",
      "Processing Record  ituacu  \n",
      "Processing Record  tilichiki  \n",
      "City not found\n",
      "Processing Record  gazanjyk  \n",
      "City not found\n",
      "City not found\n",
      "Processing Record  aquiraz  \n",
      "Processing Record  praya  \n",
      "Processing Record  abnub  \n",
      "Processing Record  soyo  \n",
      "Processing Record  lethbridge  \n",
      "City not found\n",
      "Processing Record  havelock  \n",
      "Processing Record  aguas vermelhas  \n",
      "Processing Record  sion  \n",
      "Processing Record  araouane  \n",
      "Processing Record  bonavista  \n",
      "Processing Record  weligama  \n",
      "Processing Record  meulaboh  \n",
      "City not found\n",
      "Processing Record  yulara  \n",
      "Processing Record  montemor-o-novo  \n",
      "Processing Record  pias  \n",
      "City not found\n",
      "Processing Record  beyneu  \n",
      "Processing Record  hidrolandia  \n",
      "Processing Record  tabat  \n",
      "Processing Record  gravdal  \n",
      "Processing Record  aasiaat  \n",
      "Processing Record  lamu  \n",
      "Processing Record  milkovo  \n",
      "Processing Record  wankaner  \n",
      "Processing Record  prestea  \n",
      "Processing Record  chicama  \n",
      "Processing Record  ostersund  \n",
      "Processing Record  tomohon  \n",
      "Processing Record  belyy yar  \n",
      "Processing Record  berlevag  \n",
      "Processing Record  caraz  \n",
      "Processing Record  subiaco  \n",
      "Processing Record  dryden  \n",
      "Processing Record  tautira  \n",
      "Processing Record  paratinga  \n",
      "Processing Record  rota  \n",
      "Processing Record  dodola  \n",
      "City not found\n",
      "Processing Record  nioro  \n",
      "Processing Record  popondetta  \n",
      "Processing Record  salinas  \n",
      "Processing Record  west plains  \n",
      "Processing Record  makakilo city  \n",
      "Processing Record  kruisfontein  \n",
      "Processing Record  samarai  \n",
      "Processing Record  dubbo  \n",
      "Processing Record  bima  \n",
      "Processing Record  limbang  \n",
      "Processing Record  luba  \n",
      "Processing Record  hede  \n",
      "Processing Record  bastia  \n",
      "Processing Record  bafra  \n",
      "City not found\n",
      "Processing Record  lasa  \n",
      "Processing Record  saint-louis  \n",
      "Processing Record  turayf  \n",
      "Processing Record  padang  \n",
      "Processing Record  zabaykalsk  \n",
      "Processing Record  los llanos de aridane  \n",
      "Processing Record  tambun  \n"
     ]
    },
    {
     "name": "stdout",
     "output_type": "stream",
     "text": [
      "Processing Record  shaunavon  \n",
      "Processing Record  flin flon  \n",
      "Processing Record  minjur  \n",
      "Processing Record  comodoro rivadavia  \n",
      "Processing Record  quelimane  \n",
      "City not found\n",
      "Processing Record  kargasok  \n",
      "Processing Record  port lincoln  \n",
      "Processing Record  puerto colombia  \n",
      "Processing Record  tazovskiy  \n",
      "Processing Record  negombo  \n",
      "Processing Record  kysyl-syr  \n",
      "Processing Record  san-pedro  \n",
      "Processing Record  nemuro  \n",
      "Processing Record  vila  \n",
      "Processing Record  rawalpindi  \n",
      "City not found\n",
      "City not found\n",
      "Processing Record  te anau  \n",
      "Processing Record  lodwar  \n",
      "Processing Record  qaqortoq  \n",
      "Processing Record  oussouye  \n",
      "City not found\n"
     ]
    }
   ],
   "source": [
    "### Perform API Calls\n",
    "# Perform a weather check on each city using a series of successive API calls.\n",
    "#http://api.openweathermap.org/data/2.5/weather?q=London,uk&APPID=25cac9dce6a31b42dfca976765c80739\n",
    "city=[]\n",
    "Cloudiness=[]\n",
    "Country=[]\n",
    "Date=[]\n",
    "Humidity=[]\n",
    "Lat=[]\n",
    "Lng=[]\n",
    "Max_Temp=[]\n",
    "Wind_Speed=[]\n",
    "\n",
    "units = \"imperial\"\n",
    "base_url=\"http://api.openweathermap.org/data/2.5/weather?\"\n",
    "\n",
    "# Build partial query URL\n",
    "\n",
    "\n",
    "for c in cities: \n",
    "    query_url = f\"{base_url}appid={weather_api_key}&units={units}&q=\"\n",
    "    response =requests.get(query_url+c).json()\n",
    "    #print(response)\n",
    "    try:\n",
    "        city.append(response[\"name\"])\n",
    "        Cloudiness.append(response[\"clouds\"][\"all\"])\n",
    "        Country.append(response[\"sys\"][\"country\"])\n",
    "        Date.append(response[\"dt\"])\n",
    "        Humidity.append(response[\"main\"][\"humidity\"])\n",
    "        Lat.append(response[\"coord\"][\"lat\"])\n",
    "        Lng.append(response[\"coord\"][\"lon\"])\n",
    "        Max_Temp.append(response[\"main\"][\"temp_max\"])\n",
    "        Wind_Speed.append(response[\"wind\"][\"speed\"])\n",
    "        #* Include a print log of each city as it'sbeing processed (with the city number and city name).\n",
    "        print(f'Processing Record  {c}  ')\n",
    "        \n",
    "    except:\n",
    "        print(\"City not found\")\n",
    "        "
   ]
  },
  {
   "cell_type": "code",
   "execution_count": 5,
   "metadata": {},
   "outputs": [
    {
     "name": "stdout",
     "output_type": "stream",
     "text": [
      "539\n",
      "1578358068\n"
     ]
    }
   ],
   "source": [
    "print(len(city))\n",
    "print(Date[0])"
   ]
  },
  {
   "cell_type": "markdown",
   "metadata": {},
   "source": [
    "### Convert Raw Data to DataFrame\n",
    "* Export the city data into a .csv.\n",
    "* Display the DataFrame"
   ]
  },
  {
   "cell_type": "code",
   "execution_count": 6,
   "metadata": {},
   "outputs": [
    {
     "data": {
      "text/html": [
       "<div>\n",
       "<style scoped>\n",
       "    .dataframe tbody tr th:only-of-type {\n",
       "        vertical-align: middle;\n",
       "    }\n",
       "\n",
       "    .dataframe tbody tr th {\n",
       "        vertical-align: top;\n",
       "    }\n",
       "\n",
       "    .dataframe thead th {\n",
       "        text-align: right;\n",
       "    }\n",
       "</style>\n",
       "<table border=\"1\" class=\"dataframe\">\n",
       "  <thead>\n",
       "    <tr style=\"text-align: right;\">\n",
       "      <th></th>\n",
       "      <th>cities</th>\n",
       "      <th>Cloudiness</th>\n",
       "      <th>Country</th>\n",
       "      <th>Date</th>\n",
       "      <th>Humidity</th>\n",
       "      <th>Lat</th>\n",
       "      <th>Lng</th>\n",
       "      <th>Max_Temp</th>\n",
       "      <th>Wind_Speed</th>\n",
       "    </tr>\n",
       "  </thead>\n",
       "  <tbody>\n",
       "    <tr>\n",
       "      <th>0</th>\n",
       "      <td>Busselton</td>\n",
       "      <td>0</td>\n",
       "      <td>AU</td>\n",
       "      <td>1578358068</td>\n",
       "      <td>19</td>\n",
       "      <td>-33.64</td>\n",
       "      <td>115.35</td>\n",
       "      <td>82.99</td>\n",
       "      <td>7.34</td>\n",
       "    </tr>\n",
       "    <tr>\n",
       "      <th>1</th>\n",
       "      <td>Dikson</td>\n",
       "      <td>100</td>\n",
       "      <td>RU</td>\n",
       "      <td>1578358216</td>\n",
       "      <td>95</td>\n",
       "      <td>73.51</td>\n",
       "      <td>80.55</td>\n",
       "      <td>12.13</td>\n",
       "      <td>10.51</td>\n",
       "    </tr>\n",
       "    <tr>\n",
       "      <th>2</th>\n",
       "      <td>Atuona</td>\n",
       "      <td>0</td>\n",
       "      <td>PF</td>\n",
       "      <td>1578358216</td>\n",
       "      <td>70</td>\n",
       "      <td>-9.80</td>\n",
       "      <td>-139.03</td>\n",
       "      <td>80.55</td>\n",
       "      <td>12.33</td>\n",
       "    </tr>\n",
       "    <tr>\n",
       "      <th>3</th>\n",
       "      <td>Kattivakkam</td>\n",
       "      <td>40</td>\n",
       "      <td>IN</td>\n",
       "      <td>1578358216</td>\n",
       "      <td>88</td>\n",
       "      <td>13.22</td>\n",
       "      <td>80.32</td>\n",
       "      <td>80.01</td>\n",
       "      <td>8.05</td>\n",
       "    </tr>\n",
       "    <tr>\n",
       "      <th>4</th>\n",
       "      <td>Chulym</td>\n",
       "      <td>100</td>\n",
       "      <td>RU</td>\n",
       "      <td>1578358216</td>\n",
       "      <td>95</td>\n",
       "      <td>55.09</td>\n",
       "      <td>80.97</td>\n",
       "      <td>23.22</td>\n",
       "      <td>8.86</td>\n",
       "    </tr>\n",
       "  </tbody>\n",
       "</table>\n",
       "</div>"
      ],
      "text/plain": [
       "        cities  Cloudiness Country        Date  Humidity    Lat     Lng  \\\n",
       "0    Busselton           0      AU  1578358068        19 -33.64  115.35   \n",
       "1       Dikson         100      RU  1578358216        95  73.51   80.55   \n",
       "2       Atuona           0      PF  1578358216        70  -9.80 -139.03   \n",
       "3  Kattivakkam          40      IN  1578358216        88  13.22   80.32   \n",
       "4       Chulym         100      RU  1578358216        95  55.09   80.97   \n",
       "\n",
       "   Max_Temp  Wind_Speed  \n",
       "0     82.99        7.34  \n",
       "1     12.13       10.51  \n",
       "2     80.55       12.33  \n",
       "3     80.01        8.05  \n",
       "4     23.22        8.86  "
      ]
     },
     "execution_count": 6,
     "metadata": {},
     "output_type": "execute_result"
    }
   ],
   "source": [
    "\n",
    "city_df=pd.DataFrame({\n",
    "\"cities\":city,\n",
    "\"Cloudiness\":Cloudiness,\n",
    "\"Country\":Country,\n",
    "\"Date\":Date,\n",
    "\"Humidity\":Humidity,\n",
    "\"Lat\":Lat,\n",
    "\"Lng\":Lng,\n",
    "\"Max_Temp\":Max_Temp,\n",
    "\"Wind_Speed\":Wind_Speed    \n",
    "})\n",
    "\n",
    "city_df.head()"
   ]
  },
  {
   "cell_type": "code",
   "execution_count": 7,
   "metadata": {},
   "outputs": [],
   "source": [
    "#Write the data to a csv file\n",
    "#output_data_file = \"../output_data/cities_PC.csv\"\n",
    "city_df.to_csv(output_data_file)"
   ]
  },
  {
   "cell_type": "markdown",
   "metadata": {},
   "source": [
    "### Plotting the Data\n",
    "* Use proper labeling of the plots using plot titles (including date of analysis) and axes labels.\n",
    "* Save the plotted figures as .pngs."
   ]
  },
  {
   "cell_type": "markdown",
   "metadata": {},
   "source": [
    "#### Latitude vs. Temperature Plot"
   ]
  },
  {
   "cell_type": "code",
   "execution_count": 8,
   "metadata": {},
   "outputs": [
    {
     "name": "stdout",
     "output_type": "stream",
     "text": [
      "1578358068\n"
     ]
    }
   ],
   "source": [
    "print(Date[0])"
   ]
  },
  {
   "cell_type": "code",
   "execution_count": 9,
   "metadata": {
    "scrolled": true
   },
   "outputs": [
    {
     "name": "stdout",
     "output_type": "stream",
     "text": [
      "Here we are ploting city temprature and latitudes.Analysing the plot tells us the temprature near the equater are higher as compared to the city higher latitudes. \n"
     ]
    },
    {
     "data": {
      "image/png": "[encoded data removed]",
      "text/plain": [
       "<Figure size 432x288 with 1 Axes>"
      ]
     },
     "metadata": {
      "needs_background": "light"
     },
     "output_type": "display_data"
    }
   ],
   "source": [
    "#convert (Unix time, UTC), to date format\n",
    "\n",
    "dt=int(Date[0])\n",
    "dt=datetime.datetime.utcfromtimestamp(Date[0]).strftime('%Y/%m/%d')\n",
    "\n",
    "\n",
    "x_values = city_df['Lat']\n",
    "y_values = city_df['Max_Temp']\n",
    "plt.ylim(0,100)\n",
    "plt.xlim(-60,80)\n",
    "plt.scatter(x_values,y_values)\n",
    "plt.xlabel('Latitude')\n",
    "plt.ylabel('Max Temperature (F)')\n",
    "plt.title(f'City Latitude vs Max Temprature ({dt})')\n",
    "plt.grid()\n",
    "#plt.show()\n",
    "plt.savefig(\"../Images/LatitudeVsMaxTemprature.png\")\n",
    "print('Here we are ploting city temprature and latitudes.Analysing the plot tells us the temprature near the equater are higher as compared to the city higher latitudes. ')"
   ]
  },
  {
   "cell_type": "markdown",
   "metadata": {},
   "source": [
    "#### Latitude vs. Humidity Plot"
   ]
  },
  {
   "cell_type": "code",
   "execution_count": 10,
   "metadata": {},
   "outputs": [
    {
     "name": "stdout",
     "output_type": "stream",
     "text": [
      "Here we are ploting the Humidity vs Latitudes.\n"
     ]
    },
    {
     "data": {
      "image/png": "[encoded data removed]",
      "text/plain": [
       "<Figure size 432x288 with 1 Axes>"
      ]
     },
     "metadata": {
      "needs_background": "light"
     },
     "output_type": "display_data"
    }
   ],
   "source": [
    "x_values = city_df['Lat']\n",
    "y_values = city_df['Humidity']\n",
    "plt.ylim(0,300)\n",
    "plt.xlim(-60,80)\n",
    "plt.scatter(x_values,y_values)\n",
    "plt.xlabel('Latitude')\n",
    "plt.ylabel('Humidity (%)')\n",
    "plt.title(f'City Latitude vs Humidity ({dt})')\n",
    "plt.grid()\n",
    "#plt.show()\n",
    "plt.savefig(\"../Images/LatitudeVsHumidity.png\")\n",
    "print('Here we are ploting the Humidity vs Latitudes.')"
   ]
  },
  {
   "cell_type": "markdown",
   "metadata": {},
   "source": [
    "#### Latitude vs. Cloudiness Plot"
   ]
  },
  {
   "cell_type": "code",
   "execution_count": 11,
   "metadata": {},
   "outputs": [
    {
     "name": "stdout",
     "output_type": "stream",
     "text": [
      "Here er are ploting Latitude vs Cloudiness. Ananlysis sya that the Clodiness is not dependent on Latitude. \n"
     ]
    },
    {
     "data": {
      "image/png": "[encoded data removed]",
      "text/plain": [
       "<Figure size 432x288 with 1 Axes>"
      ]
     },
     "metadata": {
      "needs_background": "light"
     },
     "output_type": "display_data"
    }
   ],
   "source": [
    "x_values = city_df['Lat']\n",
    "y_values = city_df['Cloudiness']\n",
    "plt.ylim(0,100)\n",
    "plt.xlim(-60,80)\n",
    "plt.scatter(x_values,y_values)\n",
    "plt.xlabel('Latitude')\n",
    "plt.ylabel('Cloudiness')\n",
    "plt.title(f'City Latitude vs Cloudiness ({dt})')\n",
    "plt.grid()\n",
    "#plt.show()\n",
    "plt.savefig(\"../Images/LatitudeVsCloudiness.png\")\n",
    "print('Here er are ploting Latitude vs Cloudiness. Ananlysis sya that the Clodiness is not dependent on Latitude. ')"
   ]
  },
  {
   "cell_type": "markdown",
   "metadata": {},
   "source": [
    "#### Latitude vs. Wind Speed Plot"
   ]
  },
  {
   "cell_type": "code",
   "execution_count": 12,
   "metadata": {},
   "outputs": [
    {
     "name": "stdout",
     "output_type": "stream",
     "text": [
      "Here we are ploting Latitude vs Wind Speed.Ananlysis say that Latitude has no affect on wind speed\n"
     ]
    },
    {
     "data": {
      "image/png": "[encoded data removed]",
      "text/plain": [
       "<Figure size 432x288 with 1 Axes>"
      ]
     },
     "metadata": {
      "needs_background": "light"
     },
     "output_type": "display_data"
    }
   ],
   "source": [
    "x_values = city_df['Lat']\n",
    "y_values = city_df['Wind_Speed']\n",
    "plt.ylim(0,40)\n",
    "plt.xlim(-60,80)\n",
    "plt.scatter(x_values,y_values)\n",
    "plt.ylabel('Wind Speed (mph)')\n",
    "plt.xlabel('Latitude')\n",
    "plt.title(f'City Latitude vs Wind Speed ({dt})')\n",
    "plt.grid()\n",
    "#plt.show()\n",
    "plt.savefig(\"../Images/LatitudeVsWindSpeed.png\")\n",
    "print('Here we are ploting Latitude vs Wind Speed.Ananlysis say that Latitude has no affect on wind speed')"
   ]
  },
  {
   "cell_type": "markdown",
   "metadata": {},
   "source": [
    "## Linear Regression"
   ]
  },
  {
   "cell_type": "code",
   "execution_count": 13,
   "metadata": {},
   "outputs": [],
   "source": [
    "# OPTIONAL: Create a function to create Linear Regression plots\n",
    "def cal_regression(x_values, y_values):\n",
    "    # Perform a linear regression on x and y \n",
    "    #(slope, intercept, rvalue, pvalue, stderr) = stats.linregress(x_values, y_values)\n",
    "    (slope, intercept, rvalue, pvalue, stderr) = linregress(x_values, y_values)\n",
    "    #linregress\n",
    "\n",
    "    # Get regression values\n",
    "    regress_values = x_values * slope + intercept\n",
    "    \n",
    "    plt.plot(x_values,regress_values,\"r-\")\n",
    "    line_eq = \"y = \" + str(round(slope,2)) + \"x +\" + str(round(intercept,2))\n",
    "    plt.annotate(line_eq,(20,15),fontsize=15,color=\"red\")\n",
    "    #print(line_eq)\n",
    "    return regress_values"
   ]
  },
  {
   "cell_type": "code",
   "execution_count": 14,
   "metadata": {},
   "outputs": [
    {
     "data": {
      "text/html": [
       "<div>\n",
       "<style scoped>\n",
       "    .dataframe tbody tr th:only-of-type {\n",
       "        vertical-align: middle;\n",
       "    }\n",
       "\n",
       "    .dataframe tbody tr th {\n",
       "        vertical-align: top;\n",
       "    }\n",
       "\n",
       "    .dataframe thead th {\n",
       "        text-align: right;\n",
       "    }\n",
       "</style>\n",
       "<table border=\"1\" class=\"dataframe\">\n",
       "  <thead>\n",
       "    <tr style=\"text-align: right;\">\n",
       "      <th></th>\n",
       "      <th>cities</th>\n",
       "      <th>Cloudiness</th>\n",
       "      <th>Country</th>\n",
       "      <th>Date</th>\n",
       "      <th>Humidity</th>\n",
       "      <th>Lat</th>\n",
       "      <th>Lng</th>\n",
       "      <th>Max_Temp</th>\n",
       "      <th>Wind_Speed</th>\n",
       "    </tr>\n",
       "  </thead>\n",
       "  <tbody>\n",
       "    <tr>\n",
       "      <th>0</th>\n",
       "      <td>Busselton</td>\n",
       "      <td>0</td>\n",
       "      <td>AU</td>\n",
       "      <td>1578358068</td>\n",
       "      <td>19</td>\n",
       "      <td>-33.64</td>\n",
       "      <td>115.35</td>\n",
       "      <td>82.99</td>\n",
       "      <td>7.34</td>\n",
       "    </tr>\n",
       "    <tr>\n",
       "      <th>2</th>\n",
       "      <td>Atuona</td>\n",
       "      <td>0</td>\n",
       "      <td>PF</td>\n",
       "      <td>1578358216</td>\n",
       "      <td>70</td>\n",
       "      <td>-9.80</td>\n",
       "      <td>-139.03</td>\n",
       "      <td>80.55</td>\n",
       "      <td>12.33</td>\n",
       "    </tr>\n",
       "    <tr>\n",
       "      <th>6</th>\n",
       "      <td>Rikitea</td>\n",
       "      <td>95</td>\n",
       "      <td>PF</td>\n",
       "      <td>1578358216</td>\n",
       "      <td>74</td>\n",
       "      <td>-23.12</td>\n",
       "      <td>-134.97</td>\n",
       "      <td>76.91</td>\n",
       "      <td>12.15</td>\n",
       "    </tr>\n",
       "    <tr>\n",
       "      <th>8</th>\n",
       "      <td>Castro</td>\n",
       "      <td>90</td>\n",
       "      <td>CL</td>\n",
       "      <td>1578358216</td>\n",
       "      <td>100</td>\n",
       "      <td>-42.48</td>\n",
       "      <td>-73.76</td>\n",
       "      <td>53.60</td>\n",
       "      <td>9.17</td>\n",
       "    </tr>\n",
       "    <tr>\n",
       "      <th>9</th>\n",
       "      <td>Ushuaia</td>\n",
       "      <td>75</td>\n",
       "      <td>AR</td>\n",
       "      <td>1578357994</td>\n",
       "      <td>66</td>\n",
       "      <td>-54.81</td>\n",
       "      <td>-68.31</td>\n",
       "      <td>50.00</td>\n",
       "      <td>6.93</td>\n",
       "    </tr>\n",
       "  </tbody>\n",
       "</table>\n",
       "</div>"
      ],
      "text/plain": [
       "      cities  Cloudiness Country        Date  Humidity    Lat     Lng  \\\n",
       "0  Busselton           0      AU  1578358068        19 -33.64  115.35   \n",
       "2     Atuona           0      PF  1578358216        70  -9.80 -139.03   \n",
       "6    Rikitea          95      PF  1578358216        74 -23.12 -134.97   \n",
       "8     Castro          90      CL  1578358216       100 -42.48  -73.76   \n",
       "9    Ushuaia          75      AR  1578357994        66 -54.81  -68.31   \n",
       "\n",
       "   Max_Temp  Wind_Speed  \n",
       "0     82.99        7.34  \n",
       "2     80.55       12.33  \n",
       "6     76.91       12.15  \n",
       "8     53.60        9.17  \n",
       "9     50.00        6.93  "
      ]
     },
     "execution_count": 14,
     "metadata": {},
     "output_type": "execute_result"
    }
   ],
   "source": [
    "# Create Northern and Southern Hemisphere DataFrames\n",
    "north_df=city_df[(city_df[\"Lat\"]>0)]\n",
    "north_df.head()\n",
    "\n",
    "south_df=city_df[(city_df[\"Lat\"]<0)]\n",
    "south_df.head()"
   ]
  },
  {
   "cell_type": "markdown",
   "metadata": {},
   "source": [
    "####  Northern Hemisphere - Max Temp vs. Latitude Linear Regression"
   ]
  },
  {
   "cell_type": "code",
   "execution_count": 15,
   "metadata": {},
   "outputs": [
    {
     "name": "stdout",
     "output_type": "stream",
     "text": [
      "The r-squared is: -0.8620271036768694\n"
     ]
    },
    {
     "data": {
      "image/png": "[encoded data removed]",
      "text/plain": [
       "<Figure size 432x288 with 1 Axes>"
      ]
     },
     "metadata": {
      "needs_background": "light"
     },
     "output_type": "display_data"
    },
    {
     "name": "stdout",
     "output_type": "stream",
     "text": [
      "Negatively corelated\n"
     ]
    }
   ],
   "source": [
    "\n",
    "plt.scatter(north_df[\"Lat\"],north_df[\"Max_Temp\"])\n",
    "plt.ylim(0,100)\n",
    "plt.xlim(0,80)\n",
    "plt.xlabel(\"Latitude\")\n",
    "plt.ylabel(\"Max Temp\")\n",
    "plt.title(\"Northern Hemisphere - Max Temp vs. Latitude Linear Regression\")   \n",
    "\n",
    "#liner regression    \n",
    "(slope, intercept, rvalue, pvalue, stderr) = linregress(north_df[\"Lat\"],north_df[\"Max_Temp\"])\n",
    "#linregress\n",
    "\n",
    "# Get regression values\n",
    "regress_values =north_df[\"Lat\"] * slope + intercept\n",
    "    \n",
    "plt.plot(north_df[\"Lat\"],regress_values,\"r-\")\n",
    "line_eq = \"y = \" + str(round(slope,2)) + \"x +\" + str(round(intercept,2))\n",
    "plt.annotate(line_eq,(20,45),fontsize=15,color=\"red\")\n",
    "#print(line_eq)\n",
    "print(f\"The r-squared is: {rvalue}\")\n",
    "#call the regression function\n",
    "#reg_North_temp_lat =cal_regression(north_df[\"Lat\"],north_df[\"Max_Temp\"])\n",
    "plt.show()            \n",
    "#plt.savefig(\"../Images/NorthHmsTemp_lat.png\")            \n",
    "            \n",
    "print('Negatively corelated')        "
   ]
  },
  {
   "cell_type": "markdown",
   "metadata": {},
   "source": [
    "####  Southern Hemisphere - Max Temp vs. Latitude Linear Regression"
   ]
  },
  {
   "cell_type": "code",
   "execution_count": 16,
   "metadata": {},
   "outputs": [
    {
     "name": "stdout",
     "output_type": "stream",
     "text": [
      "The r-squared is: 0.44090310091472723\n"
     ]
    },
    {
     "data": {
      "image/png": "[encoded data removed]",
      "text/plain": [
       "<Figure size 432x288 with 1 Axes>"
      ]
     },
     "metadata": {
      "needs_background": "light"
     },
     "output_type": "display_data"
    },
    {
     "name": "stdout",
     "output_type": "stream",
     "text": [
      "R vale is low\n"
     ]
    }
   ],
   "source": [
    "\n",
    "plt.scatter(south_df[\"Lat\"],south_df[\"Max_Temp\"])\n",
    "plt.ylim(0,90)\n",
    "plt.xlim(-50,0)\n",
    "plt.xlabel(\"Latitude\")\n",
    "plt.ylabel(\"Max Temp\")\n",
    "plt.title(\"Southern Hemisphere - Max Temp vs. Latitude Linear Regression\")   \n",
    "\n",
    "\n",
    "#liner regression    \n",
    "(slope, intercept, rvalue, pvalue, stderr) = linregress(south_df[\"Lat\"],south_df[\"Max_Temp\"])\n",
    "#linregress\n",
    "\n",
    "# Get regression values\n",
    "regress_values =south_df[\"Lat\"] * slope + intercept\n",
    "    \n",
    "plt.plot(south_df[\"Lat\"],regress_values,\"r-\")\n",
    "line_eq = \"y = \" + str(round(slope,2)) + \"x +\" + str(round(intercept,2))\n",
    "plt.annotate(line_eq,(-40,55),fontsize=15,color=\"red\")\n",
    "#print(line_eq)\n",
    "print(f\"The r-squared is: {rvalue}\")\n",
    "#call the regression function\n",
    "reg_south_temp_lat =cal_regression(south_df[\"Lat\"],south_df[\"Max_Temp\"])\n",
    "plt.show()  \n",
    "#plt.savefig(\"../Images/SouthHmsTemp_lat.png\") \n",
    "print('R vale is low')"
   ]
  },
  {
   "cell_type": "markdown",
   "metadata": {},
   "source": [
    "####  Northern Hemisphere - Humidity (%) vs. Latitude Linear Regression"
   ]
  },
  {
   "cell_type": "code",
   "execution_count": 17,
   "metadata": {},
   "outputs": [
    {
     "name": "stdout",
     "output_type": "stream",
     "text": [
      "The r-squared is: 0.30091468619558637\n"
     ]
    },
    {
     "data": {
      "image/png": "[encoded data removed]",
      "text/plain": [
       "<Figure size 432x288 with 1 Axes>"
      ]
     },
     "metadata": {
      "needs_background": "light"
     },
     "output_type": "display_data"
    },
    {
     "name": "stdout",
     "output_type": "stream",
     "text": [
      "Positive but the r value is very low\n"
     ]
    }
   ],
   "source": [
    "\n",
    "plt.scatter(north_df[\"Lat\"],north_df[\"Humidity\"])\n",
    "plt.ylim(0,100)\n",
    "plt.xlim(0,80)\n",
    "plt.xlabel(\"Latitude\")\n",
    "plt.ylabel(\"Humidity\")\n",
    "plt.title(\"Northern Hemisphere - Humidity vs. Latitude Linear Regression\")   \n",
    "\n",
    "#liner regression    \n",
    "(slope, intercept, rvalue, pvalue, stderr) = linregress(north_df[\"Lat\"],north_df[\"Humidity\"])\n",
    "#linregress\n",
    "\n",
    "# Get regression values\n",
    "regress_values =north_df[\"Lat\"] * slope + intercept\n",
    "    \n",
    "plt.plot(north_df[\"Lat\"],regress_values,\"r-\")\n",
    "line_eq = \"y = \" + str(round(slope,2)) + \"x +\" + str(round(intercept,2))\n",
    "plt.annotate(line_eq,(20,25),fontsize=15,color=\"red\")\n",
    "#print(line_eq)\n",
    "print(f\"The r-squared is: {rvalue}\")\n",
    "\n",
    "plt.show()            \n",
    "#plt.savefig(\"../output_data/NorthHmsHumidity_lat.png\")            \n",
    "print('Positive but the r value is very low')"
   ]
  },
  {
   "cell_type": "markdown",
   "metadata": {},
   "source": [
    "####  Southern Hemisphere - Humidity (%) vs. Latitude Linear Regression"
   ]
  },
  {
   "cell_type": "code",
   "execution_count": 18,
   "metadata": {},
   "outputs": [
    {
     "name": "stdout",
     "output_type": "stream",
     "text": [
      "The r-squared is: 0.37266962409831017\n"
     ]
    },
    {
     "data": {
      "image/png": "[encoded data removed]",
      "text/plain": [
       "<Figure size 432x288 with 1 Axes>"
      ]
     },
     "metadata": {
      "needs_background": "light"
     },
     "output_type": "display_data"
    }
   ],
   "source": [
    "#print(south_df[\"Humidity\"].max())\n",
    "#print(south_df[\"Humidity\"].min())\n",
    "#print(south_df[\"Lat\"].max())\n",
    "#print(south_df[\"Lat\"].min())\n",
    "#print(north_df[\"Humidity\"].count())\n",
    "#print(city_df[\"Humidity\"].count())\n",
    "\n",
    "\n",
    "\n",
    "plt.scatter(south_df[\"Lat\"],south_df[\"Humidity\"])\n",
    "plt.ylim(0,300)\n",
    "plt.xlim(-50,0)\n",
    "plt.xlabel(\"Latitude\")\n",
    "plt.ylabel(\"Humidity\")\n",
    "plt.title(\"Southern Hemisphere - Humidity vs. Latitude Linear Regression\")   \n",
    "\n",
    "#liner regression    \n",
    "(slope, intercept, rvalue, pvalue, stderr) = linregress(south_df[\"Lat\"],south_df[\"Humidity\"])\n",
    "#linregress\n",
    "\n",
    "# Get regression values\n",
    "regress_values =south_df[\"Lat\"] * slope + intercept\n",
    "    \n",
    "plt.plot(south_df[\"Lat\"],regress_values,\"r-\")\n",
    "line_eq = \"y = \" + str(round(slope,2)) + \"x +\" + str(round(intercept,2))\n",
    "plt.annotate(line_eq,(-45,225),fontsize=15,color=\"red\")\n",
    "#print(line_eq)\n",
    "print(f\"The r-squared is: {rvalue}\")\n",
    "\n",
    "plt.show()            \n",
    "#plt.savefig(\"../output_data/SouthHmsHumidity_lat.png\")                  "
   ]
  },
  {
   "cell_type": "markdown",
   "metadata": {},
   "source": [
    "####  Northern Hemisphere - Cloudiness (%) vs. Latitude Linear Regression"
   ]
  },
  {
   "cell_type": "code",
   "execution_count": 19,
   "metadata": {},
   "outputs": [
    {
     "name": "stdout",
     "output_type": "stream",
     "text": [
      "The r-squared is: 0.27632024888290757\n"
     ]
    },
    {
     "data": {
      "image/png": "[encoded data removed]",
      "text/plain": [
       "<Figure size 432x288 with 1 Axes>"
      ]
     },
     "metadata": {
      "needs_background": "light"
     },
     "output_type": "display_data"
    },
    {
     "name": "stdout",
     "output_type": "stream",
     "text": [
      "Positive coorelation but thevalue is very low\n"
     ]
    }
   ],
   "source": [
    "\n",
    "plt.scatter(north_df[\"Lat\"],north_df[\"Cloudiness\"])\n",
    "plt.ylim(0,100)\n",
    "plt.xlim(0,80)\n",
    "plt.xlabel(\"Latitude\")\n",
    "plt.ylabel(\"Cloudiness\")\n",
    "plt.title(\"Northern Hemisphere - Cloudiness vs. Latitude Linear Regression\")   \n",
    "\n",
    "#liner regression    \n",
    "(slope, intercept, rvalue, pvalue, stderr) = linregress(north_df[\"Lat\"],north_df[\"Cloudiness\"])\n",
    "#linregress\n",
    "\n",
    "# Get regression values\n",
    "regress_values =north_df[\"Lat\"] * slope + intercept\n",
    "    \n",
    "plt.plot(north_df[\"Lat\"],regress_values,\"r-\")\n",
    "line_eq = \"y = \" + str(round(slope,2)) + \"x +\" + str(round(intercept,2))\n",
    "plt.annotate(line_eq,(20,25),fontsize=15,color=\"red\")\n",
    "#print(line_eq)\n",
    "print(f\"The r-squared is: {rvalue}\")\n",
    "\n",
    "plt.show() \n",
    "#plt.savefig(\"../output_data/NorthHmsCloudiness_lat.png\")     \n",
    "print('Positive coorelation but thevalue is very low')"
   ]
  },
  {
   "cell_type": "markdown",
   "metadata": {},
   "source": [
    "####  Southern Hemisphere - Cloudiness (%) vs. Latitude Linear Regression"
   ]
  },
  {
   "cell_type": "code",
   "execution_count": 20,
   "metadata": {},
   "outputs": [
    {
     "name": "stdout",
     "output_type": "stream",
     "text": [
      "The r-squared is: 0.19279231373508218\n"
     ]
    },
    {
     "data": {
      "image/png": "[encoded data removed]",
      "text/plain": [
       "<Figure size 432x288 with 1 Axes>"
      ]
     },
     "metadata": {
      "needs_background": "light"
     },
     "output_type": "display_data"
    },
    {
     "name": "stdout",
     "output_type": "stream",
     "text": [
      "Not a good regression value\n"
     ]
    }
   ],
   "source": [
    "plt.scatter(south_df[\"Lat\"],south_df[\"Cloudiness\"])\n",
    "plt.ylim(0,100)\n",
    "plt.xlim(-50,0)\n",
    "plt.xlabel(\"Latitude\")\n",
    "plt.ylabel(\"Cloudiness\")\n",
    "plt.title(\"Southern Hemisphere - Cloudiness vs. Latitude Linear Regression\")   \n",
    "\n",
    "#liner regression    \n",
    "(slope, intercept, rvalue, pvalue, stderr) = linregress(south_df[\"Lat\"],south_df[\"Cloudiness\"])\n",
    "#linregress\n",
    "\n",
    "# Get regression values\n",
    "regress_values =south_df[\"Lat\"] * slope + intercept\n",
    "    \n",
    "plt.plot(south_df[\"Lat\"],regress_values,\"r-\")\n",
    "line_eq = \"y = \" + str(round(slope,2)) + \"x +\" + str(round(intercept,2))\n",
    "plt.annotate(line_eq,(-35,25),fontsize=15,color=\"red\")\n",
    "#print(line_eq)\n",
    "print(f\"The r-squared is: {rvalue}\")\n",
    "\n",
    "plt.show()   \n",
    "#plt.savefig(\"../output_data/SouthHmsCloudiness_lat.png\")   \n",
    "print('Not a good regression value')"
   ]
  },
  {
   "cell_type": "markdown",
   "metadata": {},
   "source": [
    "####  Northern Hemisphere - Wind Speed (mph) vs. Latitude Linear Regression"
   ]
  },
  {
   "cell_type": "code",
   "execution_count": 21,
   "metadata": {},
   "outputs": [
    {
     "name": "stdout",
     "output_type": "stream",
     "text": [
      "The r-squared is: 0.17011526880459227\n"
     ]
    },
    {
     "data": {
      "image/png": "[encoded data removed]",
      "text/plain": [
       "<Figure size 432x288 with 1 Axes>"
      ]
     },
     "metadata": {
      "needs_background": "light"
     },
     "output_type": "display_data"
    },
    {
     "name": "stdout",
     "output_type": "stream",
     "text": [
      "Not a good regression value\n"
     ]
    }
   ],
   "source": [
    "\n",
    "#print(north_df.columns)\n",
    "plt.scatter(north_df[\"Lat\"],north_df[\"Wind_Speed\"])\n",
    "plt.ylim(0,30)\n",
    "plt.xlim(0,80)\n",
    "plt.xlabel(\"Latitude\")\n",
    "plt.ylabel(\"Wind_Speed\")\n",
    "plt.title(\"Northern Hemisphere - Wind_Speed vs. Latitude Linear Regression\")   \n",
    "\n",
    "#liner regression    \n",
    "(slope, intercept, rvalue, pvalue, stderr) = linregress(north_df[\"Lat\"],north_df[\"Wind_Speed\"])\n",
    "#linregress\n",
    "\n",
    "# Get regression values\n",
    "regress_values =north_df[\"Lat\"] * slope + intercept\n",
    "    \n",
    "plt.plot(north_df[\"Lat\"],regress_values,\"r-\")\n",
    "line_eq = \"y = \" + str(round(slope,2)) + \"x +\" + str(round(intercept,2))\n",
    "plt.annotate(line_eq,(20,25),fontsize=15,color=\"red\")\n",
    "#print(line_eq)\n",
    "print(f\"The r-squared is: {rvalue}\")\n",
    "\n",
    "plt.show() \n",
    "#plt.savefig(\"../output_data/NorthHmsWindSpeed_lat.png\")   \n",
    "print('Not a good regression value')"
   ]
  },
  {
   "cell_type": "markdown",
   "metadata": {},
   "source": [
    "####  Southern Hemisphere - Wind Speed (mph) vs. Latitude Linear Regression"
   ]
  },
  {
   "cell_type": "code",
   "execution_count": 22,
   "metadata": {},
   "outputs": [
    {
     "name": "stdout",
     "output_type": "stream",
     "text": [
      "The r-squared is: -0.43708564755985724\n"
     ]
    },
    {
     "data": {
      "image/png": "[encoded data removed]",
      "text/plain": [
       "<Figure size 432x288 with 1 Axes>"
      ]
     },
     "metadata": {
      "needs_background": "light"
     },
     "output_type": "display_data"
    },
    {
     "name": "stdout",
     "output_type": "stream",
     "text": [
      "Negative regression\n"
     ]
    }
   ],
   "source": [
    "plt.scatter(south_df[\"Lat\"],south_df[\"Wind_Speed\"])\n",
    "plt.ylim(0,35)\n",
    "plt.xlim(-50,0)\n",
    "plt.xlabel(\"Latitude\")\n",
    "plt.ylabel(\"Wind_Speed\")\n",
    "plt.title(\"Southern Hemisphere - Wind_Speed vs. Latitude Linear Regression\")   \n",
    "\n",
    "#liner regression    \n",
    "(slope, intercept, rvalue, pvalue, stderr) = linregress(south_df[\"Lat\"],south_df[\"Wind_Speed\"])\n",
    "#linregress\n",
    "\n",
    "# Get regression values\n",
    "regress_values =south_df[\"Lat\"] * slope + intercept\n",
    "    \n",
    "plt.plot(south_df[\"Lat\"],regress_values,\"r-\")\n",
    "line_eq = \"y = \" + str(round(slope,2)) + \"x +\" + str(round(intercept,2))\n",
    "plt.annotate(line_eq,(-45,25),fontsize=15,color=\"red\")\n",
    "#print(line_eq)\n",
    "print(f\"The r-squared is: {rvalue}\")\n",
    "\n",
    "plt.show()   \n",
    "#plt.savefig(\"../output_data/SouthHmsWindSpeed_lat.png\") \n",
    "print('Negative regression')"
   ]
  },
  {
   "cell_type": "code",
   "execution_count": null,
   "metadata": {},
   "outputs": [],
   "source": []
  }
 ],
 "metadata": {
  "anaconda-cloud": {},
  "kernel_info": {
   "name": "python3"
  },
  "kernelspec": {
   "display_name": "Python 3",
   "language": "python",
   "name": "python3"
  },
  "language_info": {
   "codemirror_mode": {
    "name": "ipython",
    "version": 3
   },
   "file_extension": ".py",
   "mimetype": "text/x-python",
   "name": "python",
   "nbconvert_exporter": "python",
   "pygments_lexer": "ipython3",
   "version": "3.6.9"
  },
  "latex_envs": {
   "LaTeX_envs_menu_present": true,
   "autoclose": false,
   "autocomplete": true,
   "bibliofile": "biblio.bib",
   "cite_by": "apalike",
   "current_citInitial": 1,
   "eqLabelWithNumbers": true,
   "eqNumInitial": 1,
   "hotkeys": {
    "equation": "Ctrl-E",
    "itemize": "Ctrl-I"
   },
   "labels_anchors": false,
   "latex_user_defs": false,
   "report_style_numbering": false,
   "user_envs_cfg": false
  },
  "nteract": {
   "version": "0.12.3"
  }
 },
 "nbformat": 4,
 "nbformat_minor": 2
}

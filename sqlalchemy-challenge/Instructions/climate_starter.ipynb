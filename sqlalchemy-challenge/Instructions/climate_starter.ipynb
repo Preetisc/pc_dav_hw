{
 "cells": [
  {
   "cell_type": "code",
   "execution_count": 32,
   "metadata": {},
   "outputs": [],
   "source": [
    "%matplotlib inline\n",
    "from matplotlib import style\n",
    "style.use('fivethirtyeight')\n",
    "import matplotlib.pyplot as plt\n",
    "from matplotlib.pyplot import figure"
   ]
  },
  {
   "cell_type": "code",
   "execution_count": 33,
   "metadata": {},
   "outputs": [],
   "source": [
    "import numpy as np\n",
    "import pandas as pd"
   ]
  },
  {
   "cell_type": "code",
   "execution_count": 34,
   "metadata": {},
   "outputs": [],
   "source": [
    "import datetime as dt"
   ]
  },
  {
   "cell_type": "markdown",
   "metadata": {},
   "source": [
    "# Reflect Tables into SQLAlchemy ORM"
   ]
  },
  {
   "cell_type": "code",
   "execution_count": 35,
   "metadata": {},
   "outputs": [],
   "source": [
    "# Python SQL toolkit and Object Relational Mapper\n",
    "#import sqlalchemy\n",
    "from sqlalchemy.ext.automap import automap_base\n",
    "from sqlalchemy.orm import Session\n",
    "from sqlalchemy import create_engine, func,inspect,distinct,desc"
   ]
  },
  {
   "cell_type": "code",
   "execution_count": 36,
   "metadata": {},
   "outputs": [],
   "source": [
    "engine = create_engine(\"sqlite:///Resources/hawaii.sqlite\")"
   ]
  },
  {
   "cell_type": "code",
   "execution_count": 37,
   "metadata": {},
   "outputs": [],
   "source": [
    "# reflect an existing database into a new model\n",
    "Base = automap_base()\n",
    "# reflect the tables\n",
    "Base.prepare(engine, reflect=True)"
   ]
  },
  {
   "cell_type": "code",
   "execution_count": 38,
   "metadata": {},
   "outputs": [
    {
     "data": {
      "text/plain": [
       "['measurement', 'station']"
      ]
     },
     "execution_count": 38,
     "metadata": {},
     "output_type": "execute_result"
    }
   ],
   "source": [
    "# We can view all of the classes that automap found\n",
    "Base.classes.keys()"
   ]
  },
  {
   "cell_type": "code",
   "execution_count": 39,
   "metadata": {},
   "outputs": [],
   "source": [
    "# Save references to each table\n",
    "Measurement = Base.classes.measurement\n",
    "Station = Base.classes.station"
   ]
  },
  {
   "cell_type": "code",
   "execution_count": 40,
   "metadata": {},
   "outputs": [],
   "source": [
    "# Create our session (link) from Python to the DB\n",
    "session = Session(engine)"
   ]
  },
  {
   "cell_type": "markdown",
   "metadata": {},
   "source": [
    "# Exploratory Climate Analysis"
   ]
  },
  {
   "cell_type": "code",
   "execution_count": 41,
   "metadata": {},
   "outputs": [
    {
     "name": "stdout",
     "output_type": "stream",
     "text": [
      "1.....last_date2017-08-23\n",
      "2.....2017-08-23 00:00:00\n",
      "3.....2016-08-23 00:00:00\n",
      "date_query 2016-08-23\n",
      "count before na precipitation    2021\n",
      "date             2230\n",
      "dtype: int64\n",
      "count :precipitation    2021\n",
      "dtype: int64\n"
     ]
    },
    {
     "data": {
      "image/png": "[encoded data removed]",
      "text/plain": [
       "<Figure size 432x288 with 1 Axes>"
      ]
     },
     "metadata": {},
     "output_type": "display_data"
    }
   ],
   "source": [
    "# Design a query to retrieve the last 12 months of precipitation data and plot the results\n",
    "\n",
    "# Calculate the date 1 year ago from the last data point in the database\n",
    "#get the max date in the DB\n",
    "last_date =session.query(Measurement.date).order_by(Measurement.date.desc()).first()\n",
    "last_date=str(last_date) #('2017-08-23',)\n",
    "#strip ('',)\n",
    "last_date=last_date[2:-3]\n",
    "type(last_date)\n",
    "print(f\"1.....last_date{last_date}\")\n",
    "#convert into datetime object\n",
    "ldate =dt.datetime.strptime(last_date,'%Y-%m-%d')\n",
    "print(f\"2.....{ldate}\")\n",
    "#get 1 year from he last date in the DB\n",
    "date_query=ldate-dt.timedelta(days=365)\n",
    "print(f\"3.....{date_query}\")\n",
    "date_query =dt.datetime.strftime(date_query,'%Y-%m-%d')\n",
    "\n",
    "\n",
    "print(f\"date_query {date_query}\")\n",
    "\n",
    "\n",
    "\n",
    "# Perform a query to retrieve the data and precipitation scores\n",
    "result = session.query(Measurement.prcp,Measurement.date).filter(Measurement.date >= date_query).all()\n",
    "#print(result)\n",
    "# Save the qery results as a Pandas DataFrame and set the index to the date column\n",
    "df = pd.DataFrame(result[::],columns=['precipitation','date'])\n",
    "\n",
    "print(f\"count before na {df.count()}\")\n",
    "#df = df.dropna(how='any',inplace=True)\n",
    "df.set_index('date',inplace=True)\n",
    "df.head()\n",
    "print(f\"count :{df.count()}\")\n",
    "# Sort the dataframe by date\n",
    "df=df.sort_values(by=['date'])\n",
    "df.head()\n",
    "# Use Pandas Plotting with Matplotlib to plot the data\n",
    "df.plot()\n",
    "plt.tick_params(labelbottom=False)\n",
    "plt.legend(loc='upper center')\n",
    "plt.show()\n"
   ]
  },
  {
   "cell_type": "markdown",
   "metadata": {},
   "source": [
    "![precipitation](Images/precipitation.png)"
   ]
  },
  {
   "cell_type": "code",
   "execution_count": 42,
   "metadata": {},
   "outputs": [
    {
     "data": {
      "text/html": [
       "<div>\n",
       "<style scoped>\n",
       "    .dataframe tbody tr th:only-of-type {\n",
       "        vertical-align: middle;\n",
       "    }\n",
       "\n",
       "    .dataframe tbody tr th {\n",
       "        vertical-align: top;\n",
       "    }\n",
       "\n",
       "    .dataframe thead th {\n",
       "        text-align: right;\n",
       "    }\n",
       "</style>\n",
       "<table border=\"1\" class=\"dataframe\">\n",
       "  <thead>\n",
       "    <tr style=\"text-align: right;\">\n",
       "      <th></th>\n",
       "      <th>precipitation</th>\n",
       "    </tr>\n",
       "  </thead>\n",
       "  <tbody>\n",
       "    <tr>\n",
       "      <th>count</th>\n",
       "      <td>2021.000000</td>\n",
       "    </tr>\n",
       "    <tr>\n",
       "      <th>mean</th>\n",
       "      <td>0.177279</td>\n",
       "    </tr>\n",
       "    <tr>\n",
       "      <th>std</th>\n",
       "      <td>0.461190</td>\n",
       "    </tr>\n",
       "    <tr>\n",
       "      <th>min</th>\n",
       "      <td>0.000000</td>\n",
       "    </tr>\n",
       "    <tr>\n",
       "      <th>25%</th>\n",
       "      <td>0.000000</td>\n",
       "    </tr>\n",
       "    <tr>\n",
       "      <th>50%</th>\n",
       "      <td>0.020000</td>\n",
       "    </tr>\n",
       "    <tr>\n",
       "      <th>75%</th>\n",
       "      <td>0.130000</td>\n",
       "    </tr>\n",
       "    <tr>\n",
       "      <th>max</th>\n",
       "      <td>6.700000</td>\n",
       "    </tr>\n",
       "  </tbody>\n",
       "</table>\n",
       "</div>"
      ],
      "text/plain": [
       "       precipitation\n",
       "count    2021.000000\n",
       "mean        0.177279\n",
       "std         0.461190\n",
       "min         0.000000\n",
       "25%         0.000000\n",
       "50%         0.020000\n",
       "75%         0.130000\n",
       "max         6.700000"
      ]
     },
     "execution_count": 42,
     "metadata": {},
     "output_type": "execute_result"
    }
   ],
   "source": [
    "# Use Pandas to calcualte the summary statistics for the precipitation data\n",
    "df.describe()"
   ]
  },
  {
   "cell_type": "markdown",
   "metadata": {},
   "source": [
    "![describe](Images/describe.png)"
   ]
  },
  {
   "cell_type": "code",
   "execution_count": 43,
   "metadata": {},
   "outputs": [
    {
     "name": "stdout",
     "output_type": "stream",
     "text": [
      "There are 9 distinct stations.\n"
     ]
    }
   ],
   "source": [
    "# Design a query to show how many stations are available in this dataset?\n",
    "#get the columns name of the station table\n",
    "inspector =inspect(engine)\n",
    "inspector.get_table_names()\n",
    "col_station =inspector.get_columns('station')\n",
    "col_station\n",
    "#session.query(func.count(distinct(User.name)))\n",
    "count_satations = session.query(Station.name).distinct().count()\n",
    "print(f\"There are {count_satations} distinct stations.\")"
   ]
  },
  {
   "cell_type": "code",
   "execution_count": 44,
   "metadata": {},
   "outputs": [
    {
     "data": {
      "text/plain": [
       "[('USC00519281', 2772),\n",
       " ('USC00519397', 2724),\n",
       " ('USC00513117', 2709),\n",
       " ('USC00519523', 2669),\n",
       " ('USC00516128', 2612),\n",
       " ('USC00514830', 2202),\n",
       " ('USC00511918', 1979),\n",
       " ('USC00517948', 1372),\n",
       " ('USC00518838', 511)]"
      ]
     },
     "execution_count": 44,
     "metadata": {},
     "output_type": "execute_result"
    }
   ],
   "source": [
    "# What are the most active stations? (i.e. what stations have the most rows)?\n",
    "# List the stations and the counts in descending order.\n",
    "inspector =inspect(engine)\n",
    "inspector.get_table_names()\n",
    "col_measurement =inspector.get_columns('measurement')\n",
    "col_measurement\n",
    "session.query(Measurement.station,func.count(Measurement.station).label(\"NumStation\")).\\\n",
    "group_by(Measurement.station).\\\n",
    "order_by(desc('NumStation')).all()"
   ]
  },
  {
   "cell_type": "code",
   "execution_count": 45,
   "metadata": {},
   "outputs": [
    {
     "data": {
      "text/plain": [
       "[(54.0, 85.0, 71.66378066378067)]"
      ]
     },
     "execution_count": 45,
     "metadata": {},
     "output_type": "execute_result"
    }
   ],
   "source": [
    "# Using the station id from the previous query, calculate the lowest temperature recorded, \n",
    "# highest temperature recorded, and average temperature of the most active station?\n",
    "session.query(func.min(Measurement.tobs),func.max(Measurement.tobs),func.avg(Measurement.tobs)).filter(Measurement.station =='USC00519281').all()"
   ]
  },
  {
   "cell_type": "code",
   "execution_count": 46,
   "metadata": {},
   "outputs": [
    {
     "data": {
      "text/plain": [
       "[]"
      ]
     },
     "execution_count": 46,
     "metadata": {},
     "output_type": "execute_result"
    },
    {
     "data": {
      "image/png": "[encoded data removed]",
      "text/plain": [
       "<Figure size 432x288 with 1 Axes>"
      ]
     },
     "metadata": {},
     "output_type": "display_data"
    }
   ],
   "source": [
    "# Choose the station with the highest number of temperature observations.\n",
    "\n",
    "# Query the last 12 months of temperature observation data for this station and plot the results as a histogram\n",
    "results = session.query(Measurement.tobs).filter(Measurement.date >= date_query).\\\n",
    "filter(Measurement.station =='USC00519281').all()\n",
    "\n",
    "#print(results)\n",
    "\n",
    "\n",
    "#make a dataframe out of it\n",
    "df_temp = pd.DataFrame(results,columns=['tobs'])\n",
    "df_temp.dropna(how='any',inplace=True)\n",
    "df_temp.sort_values(by='tobs',inplace=True)\n",
    "df_temp.head()\n",
    "plt=df_temp.plot.hist(bins=12)\n",
    " \n",
    "plt.plot()\n",
    "\n",
    "# = df.plot.hist(bins=12, alpha=0.5)"
   ]
  },
  {
   "cell_type": "markdown",
   "metadata": {},
   "source": [
    "![precipitation](Images/station-histogram.png)"
   ]
  },
  {
   "cell_type": "code",
   "execution_count": 47,
   "metadata": {},
   "outputs": [
    {
     "name": "stdout",
     "output_type": "stream",
     "text": [
      "[(62.0, 69.57142857142857, 74.0)]\n"
     ]
    }
   ],
   "source": [
    "# This function called `calc_temps` will accept start date and end date in the format '%Y-%m-%d' \n",
    "# and return the minimum, average, and maximum temperatures for that range of dates\n",
    "def calc_temps(start_date, end_date):\n",
    "    \"\"\"TMIN, TAVG, and TMAX for a list of dates.\n",
    "    \n",
    "    Args:\n",
    "        start_date (string): A date string in the format %Y-%m-%d\n",
    "        end_date (string): A date string in the format %Y-%m-%d\n",
    "        \n",
    "    Returns:\n",
    "        TMIN, TAVE, and TMAX\n",
    "    \"\"\"\n",
    "    \n",
    "    return session.query(func.min(Measurement.tobs), func.avg(Measurement.tobs), func.max(Measurement.tobs)).\\\n",
    "        filter(Measurement.date >= start_date).filter(Measurement.date <= end_date).all()\n",
    "\n",
    "# function usage example\n",
    "print(calc_temps('2012-02-28', '2012-03-05'))"
   ]
  },
  {
   "cell_type": "code",
   "execution_count": 48,
   "metadata": {},
   "outputs": [
    {
     "name": "stdout",
     "output_type": "stream",
     "text": [
      "2016-08-14\n",
      "2016-08-27\n",
      "[(72.0, 78.16666666666667, 84.0)]\n"
     ]
    }
   ],
   "source": [
    "# Use your previous function `calc_temps` to calculate the tmin, tavg, and tmax \n",
    "# for your trip using the previous year's data for those same dates.\n",
    "#print(calc_temps('2016-08-14', '2017-08-27'))\n",
    "trip_start_date=dt.date(2016, 8,14)\n",
    "trip_end_date=dt.date(2016, 8, 27)\n",
    "\n",
    "print(trip_start_date)\n",
    "print(trip_end_date)\n",
    "trip =(calc_temps(trip_start_date, trip_end_date))\n",
    "print(trip)\n",
    "    \n",
    "\n"
   ]
  },
  {
   "cell_type": "code",
   "execution_count": 49,
   "metadata": {},
   "outputs": [
    {
     "data": {
      "image/png": "[encoded data removed]",
      "text/plain": [
       "<Figure size 432x288 with 1 Axes>"
      ]
     },
     "metadata": {},
     "output_type": "display_data"
    }
   ],
   "source": [
    "# Plot the results from your previous query as a bar chart. \n",
    "# Use \"Trip Avg Temp\" as your Title\n",
    "# Use the average temperature for the y value\n",
    "# Use the peak-to-peak (tmax-tmin) value as the y error bar (yerr)\n",
    "\n",
    "tmin = trip[0][0]\n",
    "tavg = trip[0][1]\n",
    "tmax = trip[0][2]\n",
    "\n",
    "import pandas as pd \n",
    "import matplotlib.pyplot as plt\n",
    "\n",
    "df3 = pd.DataFrame([tavg])\n",
    "yerror=tmax-tmin\n",
    "df3.plot(kind='bar',yerr=yerror)     \n",
    "plt.title(\"Trip Avg Temp\")\n",
    "plt.ylabel(\"Temp(F)\")\n",
    "plt.show()\n",
    "\n"
   ]
  },
  {
   "cell_type": "code",
   "execution_count": null,
   "metadata": {},
   "outputs": [],
   "source": []
  },
  {
   "cell_type": "markdown",
   "metadata": {},
   "source": [
    "# RainFall"
   ]
  },
  {
   "cell_type": "code",
   "execution_count": 50,
   "metadata": {},
   "outputs": [
    {
     "name": "stdout",
     "output_type": "stream",
     "text": [
      "[(2.4699999999999998, 'KUALOA RANCH HEADQUARTERS 886.9, HI US', 7.0, 21.5213, -157.8374), (0.04, 'PEARL CITY, HI US', 11.9, 21.3934, -157.9751), (0.72, 'WAIKIKI 717.2, HI US', 3.0, 21.2716, -157.8168), (2.26, 'WAIMANALO EXPERIMENTAL FARM, HI US', 19.5, 21.33556, -157.71139), (7.73, 'WAIHEE 837.5, HI US', 32.9, 21.45167, -157.84888999999998), (4.46, 'KANEOHE 838.1, HI US', 14.6, 21.4234, -157.8015), (10.099999999999998, 'MANOA LYON ARBO 785.2, HI US', 152.4, 21.3331, -157.8025)]\n"
     ]
    }
   ],
   "source": [
    "# Calculate the total amount of rainfall per weather station for your trip dates using the previous year's matching dates.\n",
    "# Sort this in descending order by precipitation amount and list the station, name, latitude, longitude, and elevation\n",
    "\n",
    "#select sum(measurement.prcp),station.name,station.elevation,station.latitude,station.longitude from measurement,station\n",
    "#GROUP by (measurement.station) WHERE measurement.date >\n",
    "\n",
    "#group_by(station).filter(date> date<)\n",
    "#order\n",
    "\n",
    "rainfall = session.query(func.sum(Measurement.prcp),Station.name,Station.elevation,Station.latitude,Station.longitude).\\\n",
    "filter(Measurement.date >= trip_start_date).filter(Measurement.date <= trip_end_date).\\\n",
    "filter(Measurement.station == Station.station).\\\n",
    "group_by(Measurement.station).order_by(Measurement.prcp).all()\n",
    "\n",
    "\n",
    "print(rainfall)"
   ]
  },
  {
   "cell_type": "markdown",
   "metadata": {},
   "source": [
    "## Optional Challenge Assignment"
   ]
  },
  {
   "cell_type": "markdown",
   "metadata": {},
   "source": [
    "# Temp2"
   ]
  },
  {
   "cell_type": "code",
   "execution_count": 51,
   "metadata": {},
   "outputs": [
    {
     "data": {
      "text/plain": [
       "[(62.0, 69.15384615384616, 77.0)]"
      ]
     },
     "execution_count": 51,
     "metadata": {},
     "output_type": "execute_result"
    }
   ],
   "source": [
    "# Create a query that will calculate the daily normals \n",
    "# (i.e. the averages for tmin, tmax, and tavg for all historic data matching a specific month and day)\n",
    "\n",
    "def daily_normals(date):\n",
    "    \"\"\"Daily Normals.\n",
    "    \n",
    "    Args:\n",
    "        date (str): A date string in the format '%m-%d'\n",
    "        \n",
    "    Returns:\n",
    "        A list of tuples containing the daily normals, tmin, tavg, and tmax\n",
    "    \n",
    "    \"\"\"\n",
    "    \n",
    "    sel = [func.min(Measurement.tobs), func.avg(Measurement.tobs), func.max(Measurement.tobs)]\n",
    "    return session.query(*sel).filter(func.strftime(\"%m-%d\", Measurement.date) == date).all()\n",
    "    \n",
    "daily_normals(\"01-01\")"
   ]
  },
  {
   "cell_type": "code",
   "execution_count": null,
   "metadata": {},
   "outputs": [],
   "source": []
  },
  {
   "cell_type": "code",
   "execution_count": 52,
   "metadata": {},
   "outputs": [
    {
     "name": "stdout",
     "output_type": "stream",
     "text": [
      "2016-08-15\n",
      "2016-08-16\n",
      "2016-08-17\n",
      "2016-08-18\n",
      "2016-08-19\n",
      "2016-08-20\n",
      "2016-08-21\n",
      "2016-08-22\n",
      "2016-08-23\n",
      "2016-08-24\n",
      "2016-08-25\n",
      "2016-08-26\n",
      "2016-08-27\n",
      "['2016-08-14', '2016-08-15', '2016-08-16', '2016-08-17', '2016-08-18', '2016-08-19', '2016-08-20', '2016-08-21', '2016-08-22', '2016-08-23', '2016-08-24', '2016-08-25', '2016-08-26', '2016-08-27']\n",
      "['08-14', '08-15', '08-16', '08-17', '08-18', '08-19', '08-20', '08-21', '08-22', '08-23', '08-24', '08-25', '08-26', '08-27']\n",
      "[71.0, 69.0, 69.0, 69.0, 70.0, 69.0, 68.0, 67.0, 69.0, 67.0, 70.0, 69.0, 71.0, 68.0]\n",
      "[76.77777777777777, 76.47169811320755, 76.08, 76.125, 76.92307692307692, 75.94642857142857, 76.45283018867924, 76.4, 76.47169811320755, 76.6923076923077, 75.96153846153847, 76.96078431372548, 76.56862745098039, 76.28301886792453]\n",
      "[82.0, 83.0, 83.0, 83.0, 84.0, 85.0, 82.0, 83.0, 84.0, 87.0, 84.0, 82.0, 84.0, 84.0]\n"
     ]
    }
   ],
   "source": [
    "# calculate the daily normals for your trip\n",
    "from datetime import timedelta\n",
    "# Set the start and end date of the trip\n",
    "trip_start_date=dt.date(2016, 8,14)\n",
    "trip_end_date=dt.date(2016, 8, 27)\n",
    "# push each tuple of calculations into a list called `normals`\n",
    "normals_tmin=[]\n",
    "normals_tavg=[]\n",
    "normals_tmax=[]\n",
    "date_range=[str(trip_start_date)]\n",
    "md_strip=[]\n",
    "#tobs_list =list(np.ravel(results))\n",
    "\n",
    "\n",
    "\n",
    "\n",
    "# Use the start and end date to create a range of dates\n",
    "# Stip off the year and save a list of %m-%d strings\n",
    "md_strip.append(trip_start_date.strftime(\"%m-%d\"))\n",
    "#date_range.append(trip_start_date)\n",
    "\n",
    "while trip_start_date < trip_end_date:\n",
    "    trip_start_date = trip_start_date + timedelta(days=1) \n",
    "    print(trip_start_date)\n",
    "    date_range.append(str(trip_start_date))\n",
    "    \n",
    "    md_strip.append(trip_start_date.strftime(\"%m-%d\"))\n",
    "    \n",
    "print(date_range)\n",
    "print(md_strip)\n",
    "# Loop through the list of %m-%d strings and calculate the normals for each date\n",
    "for i in md_strip:\n",
    "    #normals.append(list(np.ravel(daily_normals(i))))\n",
    "    r=list(np.ravel(daily_normals(i)))  \n",
    "    normals_tmin.append(r[0])\n",
    "    normals_tavg.append(r[1])\n",
    "    normals_tmax.append(r[2])\n",
    "    #print(r[0])\n",
    "    #print(r[1])\n",
    "    #print(r[2])\n",
    "\n",
    "    \n",
    "print(normals_tmin)\n",
    "print(normals_tavg)\n",
    "print(normals_tmax)\n"
   ]
  },
  {
   "cell_type": "code",
   "execution_count": 53,
   "metadata": {},
   "outputs": [
    {
     "data": {
      "text/plain": [
       "[[71.0, 76.77777777777777, 82.0],\n",
       " [69.0, 76.47169811320755, 83.0],\n",
       " [69.0, 76.08, 83.0],\n",
       " [69.0, 76.125, 83.0],\n",
       " [70.0, 76.92307692307692, 84.0],\n",
       " [69.0, 75.94642857142857, 85.0],\n",
       " [68.0, 76.45283018867924, 82.0],\n",
       " [67.0, 76.4, 83.0],\n",
       " [69.0, 76.47169811320755, 84.0],\n",
       " [67.0, 76.6923076923077, 87.0],\n",
       " [70.0, 75.96153846153847, 84.0],\n",
       " [69.0, 76.96078431372548, 82.0],\n",
       " [71.0, 76.56862745098039, 84.0],\n",
       " [68.0, 76.28301886792453, 84.0]]"
      ]
     },
     "execution_count": 53,
     "metadata": {},
     "output_type": "execute_result"
    }
   ],
   "source": [
    "\"\"\"\n",
    "# Stip off the year and save a list of %m-%d strings\n",
    "md_strip=[]\n",
    "a=dt.datetime\n",
    "for d in range(0,len(date_range)):\n",
    "    #year_strip.append\n",
    "    dd =dt.datetime.strftime(str(date_range[d]),'%Y-%m-%d')\n",
    "    md_strip.append(dd.strptime(\"%m-%d\"))\n",
    "    print(dd)\n",
    "    \n",
    "print(md_strip)    \n",
    "\"\"\"\n",
    "# Loop through the list of %m-%d strings and calculate the normals for each date\n",
    "\n",
    "#ldate =dt.datetime.strptime(last_date,'%Y-%m-%d')\n",
    "\n",
    "#ldate =datetime.datetime.strptime('2016-08-15','%Y-%m-%d')\n",
    "#print(ldate.strftime(\"%m-%d\"))\n",
    "[[71.0, 76.77777777777777, 82.0], [69.0, 76.47169811320755, 83.0], [69.0, 76.08, 83.0], [69.0, 76.125, 83.0], [70.0, 76.92307692307692, 84.0], [69.0, 75.94642857142857, 85.0], [68.0, 76.45283018867924, 82.0], [67.0, 76.4, 83.0], [69.0, 76.47169811320755, 84.0], [67.0, 76.6923076923077, 87.0], [70.0, 75.96153846153847, 84.0], [69.0, 76.96078431372548, 82.0], [71.0, 76.56862745098039, 84.0], [68.0, 76.28301886792453, 84.0]]"
   ]
  },
  {
   "cell_type": "code",
   "execution_count": 54,
   "metadata": {},
   "outputs": [
    {
     "data": {
      "text/html": [
       "<div>\n",
       "<style scoped>\n",
       "    .dataframe tbody tr th:only-of-type {\n",
       "        vertical-align: middle;\n",
       "    }\n",
       "\n",
       "    .dataframe tbody tr th {\n",
       "        vertical-align: top;\n",
       "    }\n",
       "\n",
       "    .dataframe thead th {\n",
       "        text-align: right;\n",
       "    }\n",
       "</style>\n",
       "<table border=\"1\" class=\"dataframe\">\n",
       "  <thead>\n",
       "    <tr style=\"text-align: right;\">\n",
       "      <th></th>\n",
       "      <th>tmin</th>\n",
       "      <th>tavg</th>\n",
       "      <th>tmax</th>\n",
       "    </tr>\n",
       "    <tr>\n",
       "      <th>date</th>\n",
       "      <th></th>\n",
       "      <th></th>\n",
       "      <th></th>\n",
       "    </tr>\n",
       "  </thead>\n",
       "  <tbody>\n",
       "    <tr>\n",
       "      <th>2016-08-14</th>\n",
       "      <td>71.0</td>\n",
       "      <td>76.777778</td>\n",
       "      <td>82.0</td>\n",
       "    </tr>\n",
       "    <tr>\n",
       "      <th>2016-08-15</th>\n",
       "      <td>69.0</td>\n",
       "      <td>76.471698</td>\n",
       "      <td>83.0</td>\n",
       "    </tr>\n",
       "    <tr>\n",
       "      <th>2016-08-16</th>\n",
       "      <td>69.0</td>\n",
       "      <td>76.080000</td>\n",
       "      <td>83.0</td>\n",
       "    </tr>\n",
       "    <tr>\n",
       "      <th>2016-08-17</th>\n",
       "      <td>69.0</td>\n",
       "      <td>76.125000</td>\n",
       "      <td>83.0</td>\n",
       "    </tr>\n",
       "    <tr>\n",
       "      <th>2016-08-18</th>\n",
       "      <td>70.0</td>\n",
       "      <td>76.923077</td>\n",
       "      <td>84.0</td>\n",
       "    </tr>\n",
       "  </tbody>\n",
       "</table>\n",
       "</div>"
      ],
      "text/plain": [
       "            tmin       tavg  tmax\n",
       "date                             \n",
       "2016-08-14  71.0  76.777778  82.0\n",
       "2016-08-15  69.0  76.471698  83.0\n",
       "2016-08-16  69.0  76.080000  83.0\n",
       "2016-08-17  69.0  76.125000  83.0\n",
       "2016-08-18  70.0  76.923077  84.0"
      ]
     },
     "execution_count": 54,
     "metadata": {},
     "output_type": "execute_result"
    }
   ],
   "source": [
    "# Load the previous query results into a Pandas DataFrame and add the `trip_dates` range as the `date` index\n",
    "normal_df =pd.DataFrame({\"date\":date_range,\n",
    "                          \"tmin\":  normals_tmin,\n",
    "                         \"tavg\":  normals_tavg,\n",
    "                         \"tmax\":  normals_tmax\n",
    "                         \n",
    "                        }).set_index(\"date\")\n",
    "normal_df.head()"
   ]
  },
  {
   "cell_type": "code",
   "execution_count": 55,
   "metadata": {},
   "outputs": [
    {
     "data": {
      "text/plain": [
       "<matplotlib.axes._subplots.AxesSubplot at 0x1d8b63eec50>"
      ]
     },
     "execution_count": 55,
     "metadata": {},
     "output_type": "execute_result"
    },
    {
     "data": {
      "image/png": "[encoded data removed]",
      "text/plain": [
       "<Figure size 432x288 with 1 Axes>"
      ]
     },
     "metadata": {},
     "output_type": "display_data"
    }
   ],
   "source": [
    "# Plot the daily normals as an area plot with `stacked=False`\n",
    "#ax = normal_df.plot.area(stacked=False)\n",
    "\n",
    "normal_df.plot.area(stacked=False)\n",
    "\n",
    "#plt.gca().invert_xaxis()\n",
    "#plt.show()"
   ]
  }
 ],
 "metadata": {
  "kernel_info": {
   "name": "python3"
  },
  "kernelspec": {
   "display_name": "Python 3",
   "language": "python",
   "name": "python3"
  },
  "language_info": {
   "codemirror_mode": {
    "name": "ipython",
    "version": 3
   },
   "file_extension": ".py",
   "mimetype": "text/x-python",
   "name": "python",
   "nbconvert_exporter": "python",
   "pygments_lexer": "ipython3",
   "version": "3.6.10"
  },
  "nteract": {
   "version": "0.12.3"
  },
  "varInspector": {
   "cols": {
    "lenName": 16,
    "lenType": 16,
    "lenVar": 40
   },
   "kernels_config": {
    "python": {
     "delete_cmd_postfix": "",
     "delete_cmd_prefix": "del ",
     "library": "var_list.py",
     "varRefreshCmd": "print(var_dic_list())"
    },
    "r": {
     "delete_cmd_postfix": ") ",
     "delete_cmd_prefix": "rm(",
     "library": "var_list.r",
     "varRefreshCmd": "cat(var_dic_list()) "
    }
   },
   "types_to_exclude": [
    "module",
    "function",
    "builtin_function_or_method",
    "instance",
    "_Feature"
   ],
   "window_display": false
  }
 },
 "nbformat": 4,
 "nbformat_minor": 2
}
